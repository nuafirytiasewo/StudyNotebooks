{
 "cells": [
  {
   "cell_type": "markdown",
   "metadata": {
    "id": "1KuKdoUrvCW7"
   },
   "source": [
    "## **Задача 1. Приветствие**"
   ]
  },
  {
   "cell_type": "markdown",
   "metadata": {
    "id": "imPVogXGvT_u"
   },
   "source": [
    "На вход программе подается строка текста – имя человека.\n",
    "\n",
    " Напишите программу, которая выводит на экран приветствие в виде слова «Привет, » (без кавычек), после которого должна стоять запятая и пробел, а затем введенное имя.\n",
    "\n",
    " Для считывания текста используйте команду input(), для печати текста на экране используйте команду print().\n",
    "\n",
    "**Пример:**\n",
    "\n",
    " ввод данных: Екатерина\n",
    "\n",
    " вывод данных: Привет, Екатерина"
   ]
  },
  {
   "cell_type": "code",
   "execution_count": 4,
   "metadata": {
    "id": "NqyhA4iJ3Vtt"
   },
   "outputs": [
    {
     "name": "stdin",
     "output_type": "stream",
     "text": [
      " Дима\n"
     ]
    },
    {
     "name": "stdout",
     "output_type": "stream",
     "text": [
      "Привет, Дима\n"
     ]
    }
   ],
   "source": [
    "name = input()\n",
    "print(\"Привет, \" + name)"
   ]
  },
  {
   "cell_type": "markdown",
   "metadata": {
    "id": "8qENl25N1Y0x"
   },
   "source": [
    "## **Задача 2. Право доступа**"
   ]
  },
  {
   "cell_type": "markdown",
   "metadata": {
    "id": "qqqrqrZ34q7y"
   },
   "source": [
    "На вход программе подаётся целое число — возраст пользователя. Программа должна вывести текст:\n",
    "*   «Доступ разрешен», если возраст не менее 18;\n",
    "*   «Доступ ограничен», если возраст от 14 до 17 лет (включительно);\n",
    "*   «Доступ запрещен», если возраст менее 14 лет.\n",
    "\n",
    "Для считывания возраста используйте команду input(), не забыв преобразовать тип данных в числовой с помощью int(); для печати текста на экране используйте команду print(). Используйте условные операторы if-elif-else.\n",
    "\n",
    "**Пример:**\n",
    "\n",
    " ввод данных: 17\n",
    "\n",
    " вывод данных: Доступ ограничен"
   ]
  },
  {
   "cell_type": "code",
   "execution_count": 8,
   "metadata": {
    "id": "rpLC73vi3WeU"
   },
   "outputs": [
    {
     "name": "stdin",
     "output_type": "stream",
     "text": [
      " 21\n"
     ]
    },
    {
     "name": "stdout",
     "output_type": "stream",
     "text": [
      "Доступ разрешен\n"
     ]
    }
   ],
   "source": [
    "age = int(input())\n",
    "if age >= 18:\n",
    "    print(\"Доступ разрешен\")\n",
    "elif 14 <= age <= 17:\n",
    "    print(\"Доступ ограничен\")\n",
    "else:\n",
    "    print(\"Доступ запрещен\")"
   ]
  },
  {
   "cell_type": "markdown",
   "metadata": {
    "id": "37D1iZ-46T9f"
   },
   "source": [
    "## **Задача 3. Повторение**"
   ]
  },
  {
   "cell_type": "markdown",
   "metadata": {
    "id": "kXRx-gtU6p2n"
   },
   "source": [
    "На вход программе подаётся:\n",
    "*   на первой строке - текстовое предложение;\n",
    "*   на второй строке - количество повторений (целое число).\n",
    "\n",
    "Напишите программу, которая выводит предложение нужное количество раз (каждое предложение должно начинаться с новой строки).\n",
    "\n",
    "Для считывания текста и числа повторений используйте команду input(), не забыв преобразовать тип данных в числовой с помощью int() для количества повторений; для печати текста на экране используйте команду print(). Используйте цикл for.\n",
    "\n",
    "**Пример:**\n",
    "\n",
    " ввод данных: \n",
    "*   Век живи - век учись!\n",
    "*   3\n",
    "\n",
    "вывод данных: \n",
    " \n",
    "Век живи - век учись!\n",
    "\n",
    "Век живи - век учись!\n",
    "\n",
    "Век живи - век учись!"
   ]
  },
  {
   "cell_type": "code",
   "execution_count": 9,
   "metadata": {
    "id": "I3MQolV33Xb9"
   },
   "outputs": [
    {
     "name": "stdin",
     "output_type": "stream",
     "text": [
      " Век живи - век учись!\n",
      " 5\n"
     ]
    },
    {
     "name": "stdout",
     "output_type": "stream",
     "text": [
      "Век живи - век учись!\n",
      "Век живи - век учись!\n",
      "Век живи - век учись!\n",
      "Век живи - век учись!\n",
      "Век живи - век учись!\n"
     ]
    }
   ],
   "source": [
    "sentence = input()\n",
    "repeats = int(input())\n",
    "for _ in range(repeats):\n",
    "    print(sentence)"
   ]
  },
  {
   "cell_type": "markdown",
   "metadata": {
    "id": "hHKa8Y2j81kp"
   },
   "source": [
    "## **Задача 4. Повторение 2**"
   ]
  },
  {
   "cell_type": "markdown",
   "metadata": {
    "id": "vd60Ri5h-2d9"
   },
   "source": [
    "Реализуйте задачу 3 через цикл while."
   ]
  },
  {
   "cell_type": "code",
   "execution_count": 10,
   "metadata": {
    "id": "xN1sosvL3X70"
   },
   "outputs": [
    {
     "name": "stdin",
     "output_type": "stream",
     "text": [
      " Век живи - век учись!\n",
      " 7\n"
     ]
    },
    {
     "name": "stdout",
     "output_type": "stream",
     "text": [
      "Век живи - век учись!\n",
      "Век живи - век учись!\n",
      "Век живи - век учись!\n",
      "Век живи - век учись!\n",
      "Век живи - век учись!\n",
      "Век живи - век учись!\n",
      "Век живи - век учись!\n"
     ]
    }
   ],
   "source": [
    "sentence = input()\n",
    "repeats = int(input())\n",
    "while repeats > 0:\n",
    "    print(sentence)\n",
    "    repeats -= 1"
   ]
  },
  {
   "cell_type": "markdown",
   "metadata": {
    "id": "wFjCdbAQBCSg"
   },
   "source": [
    "## **Задача 5. ФИО**"
   ]
  },
  {
   "cell_type": "markdown",
   "metadata": {
    "id": "pkaL_HadBH3z"
   },
   "source": [
    "Напишите функцию print_fio(name, surname, patronymic), которая принимает три параметра:\n",
    "*   name – имя человека;\n",
    "*   surname – фамилия человека;\n",
    "*   patronymic – отчество человека;\n",
    "\n",
    "а затем выводит на печать ФИО человека (на одной строке, только первые буквы в порядке surname-name-patronymic).\n",
    "\n",
    "Добавьте комментарий перед каждым этапом:\n",
    "\n",
    "*   #объявление функции\n",
    "> def print_fio(name, surname, patronymic)\n",
    "*   #ввод данных\n",
    "> name, surname, patronymic =\n",
    "*   #вызов функции\n",
    "> print_fio(name, surname, patronymic)\n",
    "\n",
    "Для считывания текста используйте команду input(); для печати текста на экране используйте команду print(), добавив параметр sep='' для печати на одной строке. Используйте def для объявления функции.\n",
    "\n",
    "**Пример:**\n",
    "\n",
    " ввод данных: \n",
    "*   Иван\n",
    "*   Сидоров\n",
    "*   Петрович\n",
    "\n",
    "вывод данных: СИП"
   ]
  },
  {
   "cell_type": "code",
   "execution_count": 12,
   "metadata": {
    "id": "OsNHQU6K3Y3E"
   },
   "outputs": [
    {
     "name": "stdin",
     "output_type": "stream",
     "text": [
      " Дмитрий\n",
      " Марченко\n",
      " Аронович\n"
     ]
    },
    {
     "name": "stdout",
     "output_type": "stream",
     "text": [
      "Дмитрий Марченко Аронович\n"
     ]
    }
   ],
   "source": [
    "def print_fio(name, surname, patronymic):\n",
    "    print(name, surname, patronymic)\n",
    "name = input()\n",
    "surname = input()\n",
    "patronymic = input()\n",
    "print_fio(name, surname, patronymic)"
   ]
  },
  {
   "cell_type": "markdown",
   "metadata": {
    "id": "cCeC21NMFM_w"
   },
   "source": [
    "## **Задача 6. Первая таблица**"
   ]
  },
  {
   "cell_type": "markdown",
   "metadata": {
    "id": "BFyYI5dtFUmf"
   },
   "source": [
    "Импортируйте библиотеку pandas с именем pd. Скопируйте словарь, у которого в качестве ключей - столбцы таблицы, а в качестве значений в списках - данные таблицы:\n",
    "> data = {'col 1': ['Я', 'Python', 'Буду'], 'col 2': ['люблю', 'мой', 'стараться'], 'col 3': ['анализ', 'лучший', 'хорошо'], 'col 4': ['данных', 'друг', 'учиться']}\n",
    "\n",
    "Создайте таблицу, скопировав следующий код:\n",
    "> df = pd.DataFrame(data)\n",
    "\n",
    "где df - имя таблицы, pd.DataFrame() - конструктор таблицы, data - словарь.\n",
    "\n",
    "Выведите таблицу через print() либо просто ее вызовом без print().\n",
    "\n",
    "\n"
   ]
  },
  {
   "cell_type": "code",
   "execution_count": 15,
   "metadata": {
    "id": "NcORHQCE3ZSU"
   },
   "outputs": [
    {
     "name": "stdout",
     "output_type": "stream",
     "text": [
      "    col 1      col 2   col 3    col 4\n",
      "0       Я      люблю  анализ   данных\n",
      "1  Python        мой  лучший     друг\n",
      "2    Буду  стараться  хорошо  учиться\n"
     ]
    }
   ],
   "source": [
    "import pandas as pd\n",
    "\n",
    "data = {\n",
    "    'col 1': ['Я', 'Python', 'Буду'],\n",
    "    'col 2': ['люблю', 'мой', 'стараться'],\n",
    "    'col 3': ['анализ', 'лучший', 'хорошо'],\n",
    "    'col 4': ['данных', 'друг', 'учиться']\n",
    "}\n",
    "\n",
    "df = pd.DataFrame(data)\n",
    "\n",
    "# Вывод таблицы\n",
    "print(df)"
   ]
  }
 ],
 "metadata": {
  "colab": {
   "collapsed_sections": [],
   "name": "ФИО_Задание по премодулю",
   "provenance": []
  },
  "kernelspec": {
   "display_name": "Python 3 (ipykernel)",
   "language": "python",
   "name": "python3"
  },
  "language_info": {
   "codemirror_mode": {
    "name": "ipython",
    "version": 3
   },
   "file_extension": ".py",
   "mimetype": "text/x-python",
   "name": "python",
   "nbconvert_exporter": "python",
   "pygments_lexer": "ipython3",
   "version": "3.11.7"
  }
 },
 "nbformat": 4,
 "nbformat_minor": 4
}
