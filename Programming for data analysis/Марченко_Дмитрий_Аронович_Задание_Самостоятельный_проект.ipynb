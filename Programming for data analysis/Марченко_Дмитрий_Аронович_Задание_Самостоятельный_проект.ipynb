{
 "cells": [
  {
   "cell_type": "markdown",
   "metadata": {},
   "source": [
    "# Добро пожаловать в самостоятельный проект\n",
    "\n",
    "Самостоятельный проект — это практическая проверка знаний, приобретённых вами на вводном курсе. Каждый раздел посвящён отдельной стадии анализа данных с экскурсом в основы Python. \n",
    "\n",
    "Проект выполняется в пять этапов:\n",
    "\n",
    "•\tПостановка задачи\n",
    "\n",
    "•\tПолучение данных\n",
    "\n",
    "•\tПредобработка данных\n",
    "\n",
    "•\tАнализ данных\n",
    "\n",
    "•\tОформление результатов\n",
    "\n",
    "Для каждой части описаны шаги выполнения c теоретическим приложением. В Jupyter Notebook эти шаги связаны между собой выводами и результатами.\n",
    "\n",
    "**Исследование: Музыка больших городов**\n",
    "\n",
    "Яндекс.Музыка — это крупный продукт с огромным запасом данных для исследований. Команды таких сервисов для поддержания интереса к продукту и привлечения новых пользователей часто проводят исследования про пользователей. Чтобы удержать клиентов и привлечь новых, сделать бренд более узнаваемым, команда сервиса проводит исследования аудитории, и публикует интересные результаты. Например, интересно сравнить тексты, сочинённые нейросетью, с произведениями настоящих рэперов.\n",
    "Есть исследование, которое напоминает наше: о музыкальных предпочтениях в разных городах России.\n",
    "Итак, вопрос вам: как музыка, которая звучит по дороге на работу в понедельник утром, отличается от той, что играет в среду или в конце рабочей недели? Возьмите данные для Москвы и Петербурга. Сравните, что и в каком режиме слушают их жители.\n",
    "\n",
    "План исследования\n",
    "\n",
    "1.\tПолучение данных. Прочитайте данные, ознакомьтесь с ними.\n",
    "\n",
    "2.\tПредобработка данных. Избавьтесь от дубликатов, проблем с названиями столбцов и пропусками.\n",
    "\n",
    "3.\tАнализ данных. Ответьте на основные вопросы исследования, подготовьте отчётную таблицу или опишите полученный результат.\n",
    "\n",
    "4.\tПодведение итогов. Просмотрите выполненную работу и сформулируйте выводы.\n"
   ]
  },
  {
   "cell_type": "markdown",
   "metadata": {},
   "source": [
    "# Этап 1. Получение данных\n",
    "\n",
    "Изучим данные, предоставленные сервисом для проекта.\n",
    "\n",
    "Прочитайте файл music_project.csv и сохраните его в переменной df.\n",
    "\n",
    "Получите  первых 10 строк таблицы, а также общую информацию о данных таблицы df."
   ]
  },
  {
   "cell_type": "code",
   "execution_count": 3,
   "metadata": {},
   "outputs": [
    {
     "name": "stdout",
     "output_type": "stream",
     "text": [
      "Первые 10 строк таблицы:\n",
      "     userID                        Track            artist   genre  \\\n",
      "0  FFB692EC            Kamigata To Boots  The Mass Missile    rock   \n",
      "1  55204538  Delayed Because of Accident  Andreas Rönnberg    rock   \n",
      "2    20EC38            Funiculì funiculà       Mario Lanza     pop   \n",
      "3  A3DD03C9        Dragons in the Sunset        Fire + Ice    folk   \n",
      "4  E2DC1FAE                  Soul People        Space Echo   dance   \n",
      "5  842029A1                    Преданная         IMPERVTOR  rusrap   \n",
      "6  4CB90AA5                         True      Roman Messer   dance   \n",
      "7  F03E1C1F             Feeling This Way   Polina Griffith   dance   \n",
      "8  8FA1D3BE     И вновь продолжается бой               NaN  ruspop   \n",
      "9  E772D5C0                    Pessimist               NaN   dance   \n",
      "\n",
      "             City        time        Day  \n",
      "0  Saint-Petersburg  20:28:33  Wednesday  \n",
      "1            Moscow  14:07:09     Friday  \n",
      "2  Saint-Petersburg  20:58:07  Wednesday  \n",
      "3  Saint-Petersburg  08:37:09     Monday  \n",
      "4            Moscow  08:34:34     Monday  \n",
      "5  Saint-Petersburg  13:09:41     Friday  \n",
      "6            Moscow  13:00:07  Wednesday  \n",
      "7            Moscow  20:47:49  Wednesday  \n",
      "8            Moscow  09:17:40     Friday  \n",
      "9  Saint-Petersburg  21:20:49  Wednesday  \n",
      "\n",
      "Общая информация о данных:\n",
      "<class 'pandas.core.frame.DataFrame'>\n",
      "RangeIndex: 65079 entries, 0 to 65078\n",
      "Data columns (total 7 columns):\n",
      " #   Column    Non-Null Count  Dtype \n",
      "---  ------    --------------  ----- \n",
      " 0     userID  65079 non-null  object\n",
      " 1   Track     63848 non-null  object\n",
      " 2   artist    57876 non-null  object\n",
      " 3   genre     63881 non-null  object\n",
      " 4     City    65079 non-null  object\n",
      " 5   time      65079 non-null  object\n",
      " 6   Day       65079 non-null  object\n",
      "dtypes: object(7)\n",
      "memory usage: 3.5+ MB\n",
      "None\n"
     ]
    }
   ],
   "source": [
    "import pandas as pd\n",
    "\n",
    "# Чтение данных из файла\n",
    "df = pd.read_csv('yandex_music.csv')\n",
    "\n",
    "# Получение первых 10 строк таблицы\n",
    "print(\"Первые 10 строк таблицы:\")\n",
    "print(df.head(10))\n",
    "\n",
    "# Получение общей информации о данных таблицы\n",
    "print(\"\\nОбщая информация о данных:\")\n",
    "print(df.info())\n",
    "\n"
   ]
  },
  {
   "cell_type": "markdown",
   "metadata": {},
   "source": [
    "Рассмотрим полученную информацию подробнее.\n",
    "Всего в таблице 7 столбцов, тип данных у каждого столбца - строка.\n",
    "Подробно разберём, какие в df столбцы и какую информацию они содержат:\n",
    "•\tuserID — идентификатор пользователя;\n",
    "•\tTrack — название трека;\n",
    "•\tartist — имя исполнителя;\n",
    "•\tgenre — название жанра;\n",
    "•\tCity — город, в котором происходило прослушивание;\n",
    "•\ttime — время, в которое пользователь слушал трек;\n",
    "•\tDay — день недели.\n",
    "Количество значений в столбцах различается. Это говорит о том, что в данных есть пропущенные значения.\n"
   ]
  },
  {
   "cell_type": "markdown",
   "metadata": {},
   "source": [
    "## Выводы: \n",
    "\n",
    "Каждая строка таблицы содержит информацию о композициях определённого жанра в определённом исполнении, которые пользователи слушали в одном из городов в определённое время и день недели. Две проблемы, которые нужно решать: пропуски и некачественные названия столбцов. Для проверки рабочих гипотез особенно ценны столбцы (*вставьте сюда названия столбцов, наиболее существенных, на ва взгляд*. Данные из столбца *название столбца*  позволят узнать самые популярные жанры."
   ]
  },
  {
   "cell_type": "markdown",
   "metadata": {},
   "source": [
    "# Этап 2. Предобработка данных\n",
    "\n",
    "Исключим пропуски, переименуем столбцы, а также проверим данные на наличие дубликатов.\n",
    "\n",
    "Получаем перечень названий столбцов. Какая наблюдается проблема — кроме тех, что уже были названы ранее?\n"
   ]
  },
  {
   "cell_type": "code",
   "execution_count": 7,
   "metadata": {},
   "outputs": [
    {
     "name": "stdout",
     "output_type": "stream",
     "text": [
      "Index(['  userID', 'Track', 'artist', 'genre', '  City  ', 'time', 'Day'], dtype='object')\n"
     ]
    }
   ],
   "source": [
    "print(df.columns)"
   ]
  },
  {
   "cell_type": "markdown",
   "metadata": {},
   "source": [
    "В названиях столбцов есть пробелы, которые могут затруднять доступ к данным.\n",
    "\n",
    "Переименуем столбцы для удобства дальнейшей работы. Проверим результат.\n"
   ]
  },
  {
   "cell_type": "code",
   "execution_count": 9,
   "metadata": {},
   "outputs": [
    {
     "name": "stdout",
     "output_type": "stream",
     "text": [
      "Перечень названий столбцов после переименования:\n",
      "Index(['userID', 'Track', 'artist', 'genre', 'City', 'time', 'Day'], dtype='object')\n"
     ]
    }
   ],
   "source": [
    "# Переименование столбцов\n",
    "df.columns = ['userID', 'Track', 'artist', 'genre', 'City', 'time', 'Day']\n",
    "\n",
    "# Проверка названий столбцов после переименования\n",
    "print(\"Перечень названий столбцов после переименования:\")\n",
    "print(df.columns)"
   ]
  },
  {
   "cell_type": "markdown",
   "metadata": {},
   "source": [
    "Проверим данные на наличие пропусков вызовом набора методов для суммирования пропущенных значений."
   ]
  },
  {
   "cell_type": "code",
   "execution_count": 11,
   "metadata": {},
   "outputs": [
    {
     "name": "stdout",
     "output_type": "stream",
     "text": [
      "\n",
      "Суммарное количество пропусков:\n",
      "userID       0\n",
      "Track     1231\n",
      "artist    7203\n",
      "genre     1198\n",
      "City         0\n",
      "time         0\n",
      "Day          0\n",
      "dtype: int64\n"
     ]
    }
   ],
   "source": [
    "# Суммарное количество пропусков в таблице\n",
    "print(\"\\nСуммарное количество пропусков:\")\n",
    "print(df.isnull().sum())"
   ]
  },
  {
   "cell_type": "markdown",
   "metadata": {},
   "source": [
    "Пустые значения свидетельствуют, что для некоторых треков доступна не вся информация. Причины могут быть разные: скажем, не назван конкретный исполнитель народной песни. Хуже, если проблемы с записью данных. Каждый отдельный случай необходимо разобрать и выявить причину.\n",
    "\n",
    "Заменяем пропущенные значения в столбцах с названием трека и исполнителя на строку 'unknown'. После этой операции нужно убедиться, что таблица больше не содержит пропусков.\n"
   ]
  },
  {
   "cell_type": "code",
   "execution_count": 13,
   "metadata": {},
   "outputs": [],
   "source": [
    "# Замена пропущенных значений в столбцах 'Track' и 'artist' на 'unknown'\n",
    "df['Track'].fillna('unknown', inplace=True)\n",
    "df['artist'].fillna('unknown', inplace=True)"
   ]
  },
  {
   "cell_type": "code",
   "execution_count": 14,
   "metadata": {},
   "outputs": [
    {
     "name": "stdout",
     "output_type": "stream",
     "text": [
      "\n",
      "Суммарное количество пропусков после замены:\n",
      "userID       0\n",
      "Track        0\n",
      "artist       0\n",
      "genre     1198\n",
      "City         0\n",
      "time         0\n",
      "Day          0\n",
      "dtype: int64\n"
     ]
    }
   ],
   "source": [
    "# Проверка суммарного количества пропусков после замены\n",
    "print(\"\\nСуммарное количество пропусков после замены:\")\n",
    "print(df.isnull().sum())"
   ]
  },
  {
   "cell_type": "markdown",
   "metadata": {},
   "source": [
    "Удаляем в столбце с жанрами пустые значения; убеждаемся, что их больше не осталось."
   ]
  },
  {
   "cell_type": "code",
   "execution_count": 16,
   "metadata": {},
   "outputs": [
    {
     "name": "stdout",
     "output_type": "stream",
     "text": [
      "\n",
      "Оставшиеся пропуски в столбце 'genre':\n",
      "0\n"
     ]
    }
   ],
   "source": [
    "# Удаление пропущенных значений в столбце 'genre'\n",
    "df.dropna(subset=['genre'], inplace=True)\n",
    "\n",
    "# Проверка наличия пропусков в столбце 'genre'\n",
    "print(\"\\nОставшиеся пропуски в столбце 'genre':\")\n",
    "print(df['genre'].isnull().sum())"
   ]
  },
  {
   "cell_type": "markdown",
   "metadata": {},
   "source": [
    "Необходимо установить наличие дубликатов. Если найдутся, удаляем, и проверяем, все ли удалились."
   ]
  },
  {
   "cell_type": "code",
   "execution_count": 18,
   "metadata": {},
   "outputs": [
    {
     "name": "stdout",
     "output_type": "stream",
     "text": [
      "\n",
      "Количество дубликатов:\n",
      "3755\n",
      "\n",
      "Проверка на отсутствие дубликатов после удаления:\n",
      "0\n"
     ]
    }
   ],
   "source": [
    "# Проверка наличия дубликатов\n",
    "print(\"\\nКоличество дубликатов:\")\n",
    "print(df.duplicated().sum())\n",
    "\n",
    "# Удаление дубликатов\n",
    "df.drop_duplicates(inplace=True)\n",
    "\n",
    "# Проверка на отсутствие дубликатов\n",
    "print(\"\\nПроверка на отсутствие дубликатов после удаления:\")\n",
    "print(df.duplicated().sum())"
   ]
  },
  {
   "cell_type": "markdown",
   "metadata": {},
   "source": [
    "Дубликаты могли появиться вследствие сбоя в записи данных. Стоит обратить внимание и разобраться с причинами появления такого «информационного мусора».\n",
    "\n",
    "Сохраняем список уникальных значений столбца с жанрами в переменной genres_list.\n",
    "\n",
    "Объявим функцию find_genre() для поиска неявных дубликатов в столбце с жанрами. Например, когда название одного и того же жанра написано разными словами.\n"
   ]
  },
  {
   "cell_type": "code",
   "execution_count": 20,
   "metadata": {},
   "outputs": [
    {
     "name": "stdout",
     "output_type": "stream",
     "text": [
      "\n",
      "Список уникальных жанров:\n",
      "['rock' 'pop' 'folk' 'dance' 'rusrap' 'ruspop' 'world' 'electronic'\n",
      " 'alternative' 'children' 'rnb' 'hip' 'jazz' 'postrock' 'latin'\n",
      " 'classical' 'metal' 'reggae' 'tatar' 'blues' 'instrumental' 'rusrock'\n",
      " 'dnb' 'türk' 'post' 'country' 'psychedelic' 'conjazz' 'indie'\n",
      " 'posthardcore' 'local' 'avantgarde' 'punk' 'videogame' 'techno' 'house'\n",
      " 'christmas' 'melodic' 'caucasian' 'reggaeton' 'soundtrack' 'singer' 'ska'\n",
      " 'shanson' 'ambient' 'film' 'western' 'rap' 'beats' \"hard'n'heavy\"\n",
      " 'progmetal' 'minimal' 'contemporary' 'new' 'soul' 'holiday' 'german'\n",
      " 'tropical' 'fairytail' 'spiritual' 'urban' 'gospel' 'nujazz' 'folkmetal'\n",
      " 'trance' 'miscellaneous' 'anime' 'hardcore' 'progressive' 'chanson'\n",
      " 'numetal' 'vocal' 'estrada' 'russian' 'classicmetal' 'dubstep' 'club'\n",
      " 'deep' 'southern' 'black' 'folkrock' 'fitness' 'french' 'disco'\n",
      " 'religious' 'hiphop' 'drum' 'extrememetal' 'türkçe' 'experimental' 'easy'\n",
      " 'metalcore' 'modern' 'argentinetango' 'old' 'breaks' 'eurofolk'\n",
      " 'stonerrock' 'industrial' 'funk' 'jpop' 'middle' 'variété' 'other'\n",
      " 'adult' 'christian' 'gothic' 'international' 'muslim' 'relax' 'schlager'\n",
      " 'caribbean' 'ukrrock' 'nu' 'breakbeat' 'comedy' 'chill' 'newage'\n",
      " 'specialty' 'uzbek' 'k-pop' 'balkan' 'chinese' 'meditative' 'dub' 'power'\n",
      " 'death' 'grime' 'arabesk' 'romance' 'flamenco' 'leftfield' 'european'\n",
      " 'tech' 'newwave' 'dancehall' 'mpb' 'piano' 'top' 'bigroom' 'opera'\n",
      " 'celtic' 'tradjazz' 'acoustic' 'epicmetal' 'hip-hop' 'historisch'\n",
      " 'downbeat' 'downtempo' 'africa' 'audiobook' 'jewish' 'sängerportrait'\n",
      " 'deutschrock' 'eastern' 'action' 'future' 'electropop' 'folklore'\n",
      " 'bollywood' 'marschmusik' 'rnr' 'karaoke' 'indian' 'rancheras'\n",
      " 'электроника' 'afrikaans' 'tango' 'rhythm' 'sound' 'deutschspr' 'trip'\n",
      " 'lovers' 'choral' 'dancepop' 'podcasts' 'retro' 'smooth' 'mexican'\n",
      " 'brazilian' 'ïîï' 'mood' 'surf' 'author' 'gangsta' 'triphop'\n",
      " 'inspirational' 'idm' 'ethnic' 'bluegrass' 'broadway' 'animated'\n",
      " 'americana' 'karadeniz' 'rockabilly' 'colombian' 'self' 'hop' 'synthrock'\n",
      " 'sertanejo' 'japanese' 'canzone' 'swing' 'lounge' 'sport' 'korean'\n",
      " 'ragga' 'traditional' 'gitarre' 'frankreich' 'alternativepunk' 'emo'\n",
      " 'laiko' 'cantopop' 'glitch' 'documentary' 'rockalternative' 'thrash'\n",
      " 'hymn' 'oceania' 'rockother' 'popeurodance' 'dark' 'vi' 'grunge'\n",
      " 'hardstyle' 'samba' 'garage' 'soft' 'art' 'folktronica' 'entehno'\n",
      " 'mediterranean' 'chamber' 'cuban' 'taraftar' 'rockindie' 'gypsy'\n",
      " 'hardtechno' 'shoegazing' 'skarock' 'bossa' 'salsa' 'latino' 'worldbeat'\n",
      " 'malaysian' 'baile' 'ghazal' 'loungeelectronic' 'arabic' 'popelectronic'\n",
      " 'acid' 'kayokyoku' 'neoklassik' 'tribal' 'tanzorchester' 'native'\n",
      " 'independent' 'cantautori' 'handsup' 'poprussian' 'punjabi' 'synthpop'\n",
      " 'rave' 'französisch' 'quebecois' 'speech' 'soulful' 'teen' 'jam' 'ram'\n",
      " 'horror' 'scenic' 'orchestral' 'neue' 'roots' 'slow' 'jungle' 'indipop'\n",
      " 'axé' 'fado' 'showtunes' 'arena' 'irish' 'mandopop' 'forró' 'popdance'\n",
      " 'dirty' 'regional']\n"
     ]
    }
   ],
   "source": [
    "# Сохранение уникальных значений жанров в переменной\n",
    "genres_list = df['genre'].unique()\n",
    "print(\"\\nСписок уникальных жанров:\")\n",
    "print(genres_list)"
   ]
  },
  {
   "cell_type": "code",
   "execution_count": 21,
   "metadata": {},
   "outputs": [],
   "source": [
    "# Функция для поиска неявных дубликатов жанров\n",
    "def find_genre(genre_name):\n",
    "    count = 0\n",
    "    for genre in genres_list:\n",
    "        if genre_name in genre:\n",
    "            count += 1\n",
    "    return count\n"
   ]
  },
  {
   "cell_type": "markdown",
   "metadata": {},
   "source": [
    "Вызов функции find_genre() для поиска различных вариантов названия жанра хип-хоп в таблице.\n",
    "\n",
    "Правильное название — hiphop. Поищем другие варианты:\n",
    "\n",
    "•\thip\n",
    "\n",
    "•\thop\n",
    "\n",
    "•\thip-hop\n"
   ]
  },
  {
   "cell_type": "code",
   "execution_count": 23,
   "metadata": {},
   "outputs": [
    {
     "name": "stdout",
     "output_type": "stream",
     "text": [
      "\n",
      "Поиск жанра 'hip': 3\n"
     ]
    }
   ],
   "source": [
    "# Поиск различных вариантов названия жанра 'hiphop'\n",
    "print(\"\\nПоиск жанра 'hip':\", find_genre('hip'))"
   ]
  },
  {
   "cell_type": "code",
   "execution_count": 24,
   "metadata": {},
   "outputs": [
    {
     "name": "stdout",
     "output_type": "stream",
     "text": [
      "Поиск жанра 'hop': 4\n"
     ]
    }
   ],
   "source": [
    "print(\"Поиск жанра 'hop':\", find_genre('hop'))"
   ]
  },
  {
   "cell_type": "code",
   "execution_count": 25,
   "metadata": {},
   "outputs": [
    {
     "name": "stdout",
     "output_type": "stream",
     "text": [
      "Поиск жанра 'hip-hop': 1\n"
     ]
    }
   ],
   "source": [
    "print(\"Поиск жанра 'hip-hop':\", find_genre('hip-hop'))"
   ]
  },
  {
   "cell_type": "markdown",
   "metadata": {},
   "source": [
    "Объявим функцию find_hip_hop(), которая заменяет неправильное название этого жанра в столбце 'genre_name' на 'hiphop' и проверяет успешность выполнения замены.\n",
    "\n",
    "Так исправляем все варианты написания, которые выявила проверка.\n"
   ]
  },
  {
   "cell_type": "code",
   "execution_count": 27,
   "metadata": {},
   "outputs": [],
   "source": [
    "# Функция для замены неправильного названия жанра на 'hiphop'\n",
    "def find_hip_hop(df, incorrect_name):\n",
    "    count_before = df['genre'].str.contains(incorrect_name).sum()\n",
    "    df['genre'] = df['genre'].replace(incorrect_name, 'hiphop')\n",
    "    count_after = df['genre'].str.contains(incorrect_name).sum()\n",
    "    return count_before - count_after\n"
   ]
  },
  {
   "cell_type": "code",
   "execution_count": 28,
   "metadata": {},
   "outputs": [
    {
     "name": "stdout",
     "output_type": "stream",
     "text": [
      "\n",
      "Замена 'hip' на 'hiphop': 0\n",
      "Замена 'hop' на 'hiphop': 0\n",
      "Замена 'hip-hop' на 'hiphop': 1\n"
     ]
    }
   ],
   "source": [
    "# Замена вариантов написания на 'hiphop'\n",
    "print(\"\\nЗамена 'hip' на 'hiphop':\", find_hip_hop(df, 'hip'))\n",
    "print(\"Замена 'hop' на 'hiphop':\", find_hip_hop(df, 'hop'))\n",
    "print(\"Замена 'hip-hop' на 'hiphop':\", find_hip_hop(df, 'hip-hop'))"
   ]
  },
  {
   "cell_type": "markdown",
   "metadata": {},
   "source": [
    "Получаем общую информацию о данных. Убеждаемся, что чистка выполнена успешно."
   ]
  },
  {
   "cell_type": "code",
   "execution_count": 30,
   "metadata": {},
   "outputs": [
    {
     "name": "stdout",
     "output_type": "stream",
     "text": [
      "\n",
      "Общая информация о данных после предобработки:\n",
      "<class 'pandas.core.frame.DataFrame'>\n",
      "Index: 60126 entries, 0 to 65078\n",
      "Data columns (total 7 columns):\n",
      " #   Column  Non-Null Count  Dtype \n",
      "---  ------  --------------  ----- \n",
      " 0   userID  60126 non-null  object\n",
      " 1   Track   60126 non-null  object\n",
      " 2   artist  60126 non-null  object\n",
      " 3   genre   60126 non-null  object\n",
      " 4   City    60126 non-null  object\n",
      " 5   time    60126 non-null  object\n",
      " 6   Day     60126 non-null  object\n",
      "dtypes: object(7)\n",
      "memory usage: 3.7+ MB\n",
      "None\n"
     ]
    }
   ],
   "source": [
    "# Получение общей информации о данных после предобработки\n",
    "print(\"\\nОбщая информация о данных после предобработки:\")\n",
    "print(df.info())\n"
   ]
  },
  {
   "cell_type": "markdown",
   "metadata": {},
   "source": [
    "## Вывод\n",
    "\n",
    "На этапе предобработки в данных обнаружились не только пропуски и проблемы с названиями столбцов, но и всяческие виды дубликатов. Их удаление позволит провести анализ точнее. Поскольку сведения о жанрах важно сохранить для анализа, не просто удаляем все пропущенные значения, но заполним пропущенные имена исполнителей и названия треков. Имена столбцов теперь корректны и удобны для дальнейшей работы.\n"
   ]
  },
  {
   "cell_type": "markdown",
   "metadata": {},
   "source": [
    "# Действительно ли музыку в разных городах слушают по-разному?\n",
    "\n",
    "Была выдвинута гипотеза, что в Москве и Санкт-Петербурге пользователи слушают музыку по-разному. Проверяем это предположение по данным о трёх днях недели — понедельнике, среде и пятнице.\n",
    "\n",
    "Для каждого города устанавливаем количество прослушанных в эти дни композиций с известным жанром, и сравниваем результаты.\n",
    "Группируем данные по городу и вызовом метода count() подсчитываем композиции, для которых известен жанр.\n"
   ]
  },
  {
   "cell_type": "code",
   "execution_count": 33,
   "metadata": {},
   "outputs": [
    {
     "name": "stdout",
     "output_type": "stream",
     "text": [
      "\n",
      "Количество прослушиваний с известным жанром по городам:\n",
      "City\n",
      "Moscow              41892\n",
      "Saint-Petersburg    18234\n",
      "Name: genre, dtype: int64\n"
     ]
    }
   ],
   "source": [
    "# Группировка по городу и подсчёт количества треков с известным жанром\n",
    "city_genre_count = df.groupby('City')['genre'].count()\n",
    "print(\"\\nКоличество прослушиваний с известным жанром по городам:\")\n",
    "print(city_genre_count)"
   ]
  },
  {
   "cell_type": "markdown",
   "metadata": {},
   "source": [
    "В *(вставьте название города)* прослушиваний больше, чем в *(вставьте название города)*, но это не значит, что *(вставьте название города)* более активна. У Яндекс.Музыки в целом больше пользователей в Москве, поэтому величины сопоставимы.\n",
    "Сгруппируем данные по дню недели и подсчитаем прослушанные в понедельник, среду и пятницу композиции, для которых известен жанр.\n"
   ]
  },
  {
   "cell_type": "code",
   "execution_count": 35,
   "metadata": {},
   "outputs": [
    {
     "name": "stdout",
     "output_type": "stream",
     "text": [
      "\n",
      "Количество прослушиваний с известным жанром по дням недели:\n",
      "Day\n",
      "Friday       21482\n",
      "Monday       20866\n",
      "Wednesday    17778\n",
      "Name: genre, dtype: int64\n"
     ]
    }
   ],
   "source": [
    "# Группировка по дню недели и подсчёт количества треков с известным жанром\n",
    "day_genre_count = df.groupby('Day')['genre'].count()\n",
    "print(\"\\nКоличество прослушиваний с известным жанром по дням недели:\")\n",
    "print(day_genre_count)\n"
   ]
  },
  {
   "cell_type": "markdown",
   "metadata": {},
   "source": [
    "Понедельник и пятница — время для музыки; по средам пользователи немного больше вовлечены в работу.\n",
    "\n",
    "Создаём функцию number_tracks(), которая принимает как параметры таблицу, день недели и название города, а возвращает количество прослушанных композиций, для которых известен жанр. Проверяем количество прослушанных композиций для каждого города и понедельника, затем среды и пятницы.\n"
   ]
  },
  {
   "cell_type": "code",
   "execution_count": 37,
   "metadata": {},
   "outputs": [],
   "source": [
    "def number_tracks(df, day, city):\n",
    "    track_list = df[(df['Day'] == day) & (df['City'] == city)]\n",
    "    track_list_count = track_list['genre'].count()\n",
    "    return track_list_count\n"
   ]
  },
  {
   "cell_type": "code",
   "execution_count": 38,
   "metadata": {},
   "outputs": [],
   "source": [
    "# Получение данных по дням недели и городам\n",
    "tracks_moscow_monday = number_tracks(df, 'Monday', 'Moscow')"
   ]
  },
  {
   "cell_type": "code",
   "execution_count": 39,
   "metadata": {},
   "outputs": [],
   "source": [
    "tracks_spb_monday = number_tracks(df, 'Monday', 'Saint-Petersburg')"
   ]
  },
  {
   "cell_type": "code",
   "execution_count": 40,
   "metadata": {},
   "outputs": [],
   "source": [
    "tracks_moscow_wednesday = number_tracks(df, 'Wednesday', 'Moscow')"
   ]
  },
  {
   "cell_type": "code",
   "execution_count": 41,
   "metadata": {},
   "outputs": [],
   "source": [
    "tracks_spb_wednesday = number_tracks(df, 'Wednesday', 'Saint-Petersburg')"
   ]
  },
  {
   "cell_type": "code",
   "execution_count": 42,
   "metadata": {},
   "outputs": [],
   "source": [
    "tracks_moscow_friday = number_tracks(df, 'Friday', 'Moscow')"
   ]
  },
  {
   "cell_type": "code",
   "execution_count": 43,
   "metadata": {},
   "outputs": [],
   "source": [
    "tracks_spb_friday = number_tracks(df, 'Friday', 'Saint-Petersburg')"
   ]
  },
  {
   "cell_type": "markdown",
   "metadata": {},
   "source": [
    "Сведём полученную информацию в одну таблицу, где ['city', 'monday', 'wednesday', 'friday'] названия столбцов."
   ]
  },
  {
   "cell_type": "code",
   "execution_count": 45,
   "metadata": {},
   "outputs": [
    {
     "name": "stdout",
     "output_type": "stream",
     "text": [
      "\n",
      "Таблица с количеством прослушиваний по дням недели и городам:\n",
      "               City  Monday  Wednesday  Friday\n",
      "0            Moscow   15347      10865   15680\n",
      "1  Saint-Petersburg    5519       6913    5802\n"
     ]
    }
   ],
   "source": [
    "# Создание таблицы с результатами\n",
    "results = pd.DataFrame({\n",
    "    'City': ['Moscow', 'Saint-Petersburg'],\n",
    "    'Monday': [tracks_moscow_monday, tracks_spb_monday],\n",
    "    'Wednesday': [tracks_moscow_wednesday, tracks_spb_wednesday],\n",
    "    'Friday': [tracks_moscow_friday, tracks_spb_friday]\n",
    "})\n",
    "\n",
    "print(\"\\nТаблица с количеством прослушиваний по дням недели и городам:\")\n",
    "print(results)"
   ]
  },
  {
   "cell_type": "markdown",
   "metadata": {},
   "source": [
    "## Вывод\n",
    "\n",
    "В Москве общее количество прослушиваний с известным жанром больше, чем в Санкт-Петербурге. Это может быть связано с большим числом пользователей в Москве.\n",
    "В понедельник и пятницу наблюдается большее количество прослушиваний, что может быть связано с тем, что пользователи чаще слушают музыку в начале и конце рабочей недели.\n",
    "В среду количество прослушиваний меньше, что может указывать на большую занятость пользователей в середине недели.\n",
    "Сравнение данных по дням недели для каждого города позволяет увидеть, как меняется музыкальная активность в зависимости от дня недели и места проживания.\n",
    "Из полученной информации можно сделать вывод, что музыкальные предпочтения и активность в прослушивании могут отличаться в зависимости от дня недели и города"
   ]
  },
  {
   "cell_type": "markdown",
   "metadata": {},
   "source": [
    "# Утро понедельника и вечер пятницы — разная музыка или одна и та же?\n",
    "\n",
    "Ищем ответ на вопрос, какие жанры преобладают в разных городах в понедельник утром и в пятницу вечером. Есть предположение, что в понедельник утром пользователи слушают больше бодрящей музыки (например, жанра поп), а вечером пятницы — больше танцевальных (например, электронику).\n",
    "Получим таблицы данных по Москве moscow_general и по Санкт-Петербургу spb_general.\n"
   ]
  },
  {
   "cell_type": "code",
   "execution_count": 48,
   "metadata": {},
   "outputs": [],
   "source": [
    "# Фильтрация данных по городам\n",
    "moscow_general = df[df['City'] == 'Moscow']\n",
    "spb_general = df[df['City'] == 'Saint-Petersburg']\n"
   ]
  },
  {
   "cell_type": "markdown",
   "metadata": {},
   "source": [
    "Создаём функцию genre_weekday(), которая возвращает список жанров по запрошенному дню недели и времени суток с такого-то часа по такой-то."
   ]
  },
  {
   "cell_type": "code",
   "execution_count": 50,
   "metadata": {},
   "outputs": [],
   "source": [
    "def genre_weekday(df, day, time1, time2):\n",
    "    genre_list = df[(df['Day'] == day) & (df['time'] >= time1) & (df['time'] <= time2)]\n",
    "    genre_list_sorted = genre_list['genre'].value_counts().head(10)\n",
    "    return genre_list_sorted\n",
    "\n"
   ]
  },
  {
   "cell_type": "markdown",
   "metadata": {},
   "source": [
    "Cравниваем полученные результаты по таблице для Москвы и Санкт-Петербурга в понедельник утром (с 7 до 11) и в пятницу вечером (с 17 до 23)."
   ]
  },
  {
   "cell_type": "code",
   "execution_count": 52,
   "metadata": {},
   "outputs": [],
   "source": [
    "moscow_monday_morning = genre_weekday(moscow_general, 'Monday', '07:00:00', '11:00:00')\n"
   ]
  },
  {
   "cell_type": "code",
   "execution_count": 53,
   "metadata": {},
   "outputs": [],
   "source": [
    "spb_monday_morning = genre_weekday(spb_general, 'Monday', '07:00:00', '11:00:00')\n"
   ]
  },
  {
   "cell_type": "code",
   "execution_count": 54,
   "metadata": {},
   "outputs": [],
   "source": [
    "moscow_friday_evening = genre_weekday(moscow_general, 'Friday', '17:00:00', '23:00:00')\n"
   ]
  },
  {
   "cell_type": "code",
   "execution_count": 103,
   "metadata": {},
   "outputs": [
    {
     "name": "stdout",
     "output_type": "stream",
     "text": [
      "Популярные жанры в понедельник утром в Москве:\n",
      "genre\n",
      "pop            781\n",
      "dance          549\n",
      "electronic     480\n",
      "rock           474\n",
      "hiphop         286\n",
      "ruspop         186\n",
      "world          181\n",
      "rusrap         175\n",
      "alternative    164\n",
      "classical      157\n",
      "Name: count, dtype: int64\n",
      "\n",
      "Популярные жанры в понедельник утром в Санкт-Петербурге:\n",
      "genre\n",
      "pop            218\n",
      "dance          182\n",
      "rock           162\n",
      "electronic     147\n",
      "hiphop          80\n",
      "ruspop          64\n",
      "alternative     58\n",
      "rusrap          55\n",
      "jazz            44\n",
      "classical       40\n",
      "Name: count, dtype: int64\n",
      "\n",
      "Популярные жанры в пятницу вечером в Москве:\n",
      "genre\n",
      "pop            713\n",
      "rock           517\n",
      "dance          495\n",
      "electronic     482\n",
      "hiphop         273\n",
      "world          208\n",
      "ruspop         170\n",
      "classical      163\n",
      "alternative    163\n",
      "rusrap         142\n",
      "Name: count, dtype: int64\n",
      "\n",
      "Популярные жанры в пятницу вечером в Санкт-Петербурге:\n",
      "genre\n",
      "pop            256\n",
      "rock           216\n",
      "electronic     216\n",
      "dance          210\n",
      "hiphop          97\n",
      "alternative     63\n",
      "jazz            61\n",
      "classical       60\n",
      "rusrap          59\n",
      "world           54\n",
      "Name: count, dtype: int64\n"
     ]
    }
   ],
   "source": [
    "spb_friday_evening = genre_weekday(spb_general, 'Friday', '17:00:00', '23:00:00')\n",
    "print(\"Популярные жанры в понедельник утром в Москве:\")\n",
    "print(moscow_monday_morning)\n",
    "print(\"\\nПопулярные жанры в понедельник утром в Санкт-Петербурге:\")\n",
    "print(spb_monday_morning)\n",
    "\n",
    "print(\"\\nПопулярные жанры в пятницу вечером в Москве:\")\n",
    "print(moscow_friday_evening)\n",
    "print(\"\\nПопулярные жанры в пятницу вечером в Санкт-Петербурге:\")\n",
    "print(spb_friday_evening)"
   ]
  },
  {
   "cell_type": "markdown",
   "metadata": {},
   "source": [
    "Популярные жанры в понедельник утром в Питере и Москве оказались похожи: везде, как и предполагалось, популярен pop. Несмотря на это, концовка топ-10 для двух городов различается: в Питере в топ-10 входит джаз и русский рэп, а в Москве жанр world.\n",
    "\n",
    "Понедельник утром:\n",
    "\n",
    "Москва и Санкт-Петербург оба отдают предпочтение pop-музыке, но в Москве этот жанр более популярен.\n",
    "В Москве также заметно больше прослушиваний dance и electronic.\n",
    "В Петербурге присутствуют дополнительные жанры, такие как jazz и ruspop, которые не входят в топ-5 в Москве.\n",
    "\n",
    "Пятница вечером:\n",
    "\n",
    "Москва сохраняет лидерство pop и добавляет больше rock и dance в пятницу вечером.\n",
    "В Санкт-Петербурге pop всё ещё на первом месте, но rock и electronic занимают равные позиции.\n",
    "В Петербурге появляются жанры jazz и alternative в концовке топ-10, что не так выражено в Москве.\n",
    "\n",
    "Поп-музыка является доминирующим жанром как в Москве, так и в Санкт-Петербурге в разные дни недели, но Москва показывает более высокие показатели по всем основным жанрам.\n",
    "В пятницу вечером в Москве наблюдается более широкий спектр жанров в топ-10, что может указывать на разнообразие музыкальных предпочтений в конце рабочей недели.\n",
    "В Санкт-Петербурге также наблюдается устойчивость pop-музыки, но в концовке топ-10 появляются жанры, которые менее популярны в Москве.\n",
    "\n",
    "## Вывод\n",
    "Жанр pop безусловный лидер, а топ-5 в целом не различается в обеих столицах. При этом видно, что концовка списка более «живая»: для каждого города выделяются более характерные жанры, которые действительно меняют свои позиции в зависимости от дня недели и времени.\n"
   ]
  },
  {
   "cell_type": "markdown",
   "metadata": {},
   "source": [
    "# Москва и Питер — две разные столицы, два разных направления в музыке. Правда?\n",
    "\n",
    "Гипотеза: Питер богат своей рэп-культурой, поэтому это направление там слушают чаще, а Москва — город контрастов, но основная масса пользователей слушает попсу.\n",
    "\n",
    "Сгруппируем таблицу moscow_general по жанру, сосчитаем численность композиций каждого жанра методом count(), отсортируем в порядке убывания и сохраним результат в таблице moscow_genres.\n",
    "\n",
    "Просмотрим первые 10 строк этой новой таблицы.\n"
   ]
  },
  {
   "cell_type": "code",
   "execution_count": 58,
   "metadata": {},
   "outputs": [],
   "source": [
    "# одной строкой: группировка таблицы moscow_general по столбцу 'genre_name', \n",
    "# подсчёт числа значений 'genre_name' в этой группировке методом count(), \n",
    "# сортировка Series в порядке убывания и сохранение в moscow_genres \n"
   ]
  },
  {
   "cell_type": "code",
   "execution_count": 59,
   "metadata": {},
   "outputs": [],
   "source": [
    "# <просмотр первых 10 строк moscow_genres>"
   ]
  },
  {
   "cell_type": "markdown",
   "metadata": {},
   "source": [
    "Сгруппируем таблицу spb_general по жанру, сосчитаем численность композиций каждого жанра методом count(), отсортируем в порядке убывания и сохраним результат в таблице spb_genres.\n",
    "\n",
    "Просматриваем первые 10 строк этой таблицы. Теперь можно сравнивать два города.\n"
   ]
  },
  {
   "cell_type": "code",
   "execution_count": 61,
   "metadata": {},
   "outputs": [],
   "source": [
    "# <группировка таблицы spb_general, расчёт, сохранение в spb_genres>"
   ]
  },
  {
   "cell_type": "code",
   "execution_count": 62,
   "metadata": {},
   "outputs": [],
   "source": [
    "# <просмотр первых 10 строк spb_genres>"
   ]
  },
  {
   "cell_type": "markdown",
   "metadata": {},
   "source": [
    "## Вывод\n",
    "В Москве, кроме абсолютно популярного жанра поп, есть направление русской популярной музыки. Значит, что интерес к этому жанру шире. А рэп, вопреки предположению, занимает в обоих городах близкие позиции.\n"
   ]
  },
  {
   "cell_type": "markdown",
   "metadata": {},
   "source": [
    "# Результаты исследования\n",
    "\n",
    "Рабочие гипотезы:\n",
    "\n",
    "•\tмузыку в двух городах — Москве и Санкт-Петербурге — слушают в разном режиме;\n",
    "\n",
    "•\tсписки десяти самых популярных жанров утром в понедельник и вечером в пятницу имеют характерные отличия;\n",
    "\n",
    "•\tнаселение двух городов предпочитает разные музыкальные жанры.\n",
    "\n",
    "**Общие результаты**\n",
    "\n",
    "Москва и Петербург сходятся во вкусах: везде преобладает популярная музыка. При этом зависимости предпочтений от дня недели в каждом отдельном городе нет — люди постоянно слушают то, что им нравится. Но между городами в разрезе дней неделей наблюдается зеркальность относительно среды: Москва больше слушает в понедельник и пятницу, а Петербург наоборот - больше в среду, но меньше в понедельник и пятницу.\n",
    "В результате первая гипотеза *подтверждена / не подтверждена*, вторая гипотеза *подтверждена / не подтверждена* и третья не подтверждена >.*подтверждена / не подтверждена*\n"
   ]
  },
  {
   "cell_type": "code",
   "execution_count": null,
   "metadata": {},
   "outputs": [],
   "source": []
  },
  {
   "cell_type": "code",
   "execution_count": null,
   "metadata": {},
   "outputs": [],
   "source": []
  }
 ],
 "metadata": {
  "kernelspec": {
   "display_name": "Python 3 (ipykernel)",
   "language": "python",
   "name": "python3"
  },
  "language_info": {
   "codemirror_mode": {
    "name": "ipython",
    "version": 3
   },
   "file_extension": ".py",
   "mimetype": "text/x-python",
   "name": "python",
   "nbconvert_exporter": "python",
   "pygments_lexer": "ipython3",
   "version": "3.11.7"
  }
 },
 "nbformat": 4,
 "nbformat_minor": 4
}
