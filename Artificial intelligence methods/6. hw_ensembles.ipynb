{
 "cells": [
  {
   "cell_type": "markdown",
   "metadata": {
    "id": "ChQCezLlL15s"
   },
   "source": [
    "# Домашнее задание. Композиции алгоритмов\n",
    "В этом домашнем задании вам предстоит обучить два вида композиций алгоритмов: бэггинг и бустинг. \n",
    "\n",
    "## Постановка задачи\n",
    "Вам предлагается решить задачу бинарной классификации, а именно построить алгоритм, определяющий превысит ли средний заработок человека порог $50k. Каждый объект выборки — человек, для которого известны следующие признаки:\n",
    " - age\n",
    " - workclass\n",
    " - fnlwgt\n",
    " - education\n",
    " - education-num\n",
    " - marital-status\n",
    " - occupation\n",
    " - relationship\n",
    " - race\n",
    " - sex\n",
    " - capital-gain\n",
    " - capital-loss\n",
    " - hours-per-week\n",
    "\n",
    "## Метрика качества\n",
    "В качестве целевой метрики мы будем использовать ROC-AUC. Об этой метрике мы говорили в модуле о метриках. Как вы помните, для измерения ROC-AUC требуются вероятности принадлежности к классам. Для решающих деревьев вероятность принадлежности к классу вычисляется как доля объектов из обучающей выборки в соответствующем листе. Для алгоритма, который принимает решение взвешенным голосованием, вероятность вычисляется как среднее взвешенное значение вероятностей по всем алгоритмам в композиции. \n",
    "\n",
    "## Ход работы\n",
    "* Первым делом вы произведете загрузку и обработку данных. В частности, вам необходимо будет закодировать категориальные признаки с помощью One-hot encoding. \n",
    "* Сначала мы построим для нашей задачи обычный случайный лес и измерим его качество. Мы подберем оптимальный гиперпараметр \"глубина дерева\" для случайного леса.\n",
    "* Далее мы обучим алгоритм градиентного бустинга с помощью библиотеки Catboost. Catboost --- это библиотека для градиентного бустинга, которая автоматически обрабатывает категориальные признаки. Поэтому для этого пункта вам нужно будет использовать не One-hot признаки, а изначальные категориальные признаки.\n",
    "\n",
    "## Оценивание\n",
    "В этом домашнем задании данные разделены на две части:\n",
    "* [`data_train.csv`](https://drive.google.com/file/d/1qKakViWhNT1yTiM66V9hxADAVCYTL0PO/view?usp=share_link). Для этих данных вам известно значение целевой переменной. Эти данные вы будете использовать для обучения. \n",
    "* [`data_scoring.csv`](https://drive.google.com/file/d/1tguHTZm9-sUwTRzqAEuqLRUzKHqkvVmQ/view?usp=share_link). На этих данных вы должны будете применить готовую модель, а затем сдать результаты в Stepik. Вам необходимо будет сдать результат работы двух моделей: случайного леса и градиентного бустинга.\n",
    "\n"
   ]
  },
  {
   "cell_type": "markdown",
   "metadata": {
    "id": "XFdz-yifdnoA"
   },
   "source": [
    "## Часть 1. Загрузка и обработка данных\n",
    "Загрузка данных будет состоять из следующих шагов:\n",
    "* Загрузка из файла;\n",
    "* Работа с пропущенными значениями;\n",
    "* Выделение целевой переменной;\n",
    "* Разбиение данных на вещественные и категориальные;\n",
    "* One-hot кодирование категориальных данных;\n",
    "* Разбиение данных на train и test.\n",
    "\n",
    "Затем все эти шаги (кроме последнего) необходимо будет применить к `data_scoring`."
   ]
  },
  {
   "cell_type": "code",
   "execution_count": 1,
   "metadata": {
    "id": "Fd1ZpmkBdm4t"
   },
   "outputs": [],
   "source": [
    "import numpy as np\n",
    "import pandas as pd\n",
    "from matplotlib import pyplot as plt\n",
    "%matplotlib inline"
   ]
  },
  {
   "cell_type": "code",
   "execution_count": 2,
   "metadata": {
    "id": "GCBvvmxkezaa"
   },
   "outputs": [
    {
     "name": "stderr",
     "output_type": "stream",
     "text": [
      "\"gdown\" не является внутренней или внешней\n",
      "командой, исполняемой программой или пакетным файлом.\n"
     ]
    }
   ],
   "source": [
    "!gdown 1qKakViWhNT1yTiM66V9hxADAVCYTL0PO #эта команда скачивает файл data_train.csv и помещает его в корневую директорию Colab. Очень удобно!"
   ]
  },
  {
   "cell_type": "code",
   "execution_count": 3,
   "metadata": {
    "id": "7F0Q9Q2v_vKL"
   },
   "outputs": [],
   "source": [
    "data = pd.read_csv('data_train.csv')"
   ]
  },
  {
   "cell_type": "code",
   "execution_count": 4,
   "metadata": {
    "id": "U7z3LvVjemi6"
   },
   "outputs": [
    {
     "data": {
      "text/plain": [
       "(14734, 14)"
      ]
     },
     "execution_count": 4,
     "metadata": {},
     "output_type": "execute_result"
    }
   ],
   "source": [
    "data.shape"
   ]
  },
  {
   "cell_type": "code",
   "execution_count": 5,
   "metadata": {
    "id": "zM8GRr8Eeiaa"
   },
   "outputs": [
    {
     "data": {
      "text/html": [
       "<div>\n",
       "<style scoped>\n",
       "    .dataframe tbody tr th:only-of-type {\n",
       "        vertical-align: middle;\n",
       "    }\n",
       "\n",
       "    .dataframe tbody tr th {\n",
       "        vertical-align: top;\n",
       "    }\n",
       "\n",
       "    .dataframe thead th {\n",
       "        text-align: right;\n",
       "    }\n",
       "</style>\n",
       "<table border=\"1\" class=\"dataframe\">\n",
       "  <thead>\n",
       "    <tr style=\"text-align: right;\">\n",
       "      <th></th>\n",
       "      <th>age</th>\n",
       "      <th>workclass</th>\n",
       "      <th>fnlwgt</th>\n",
       "      <th>education</th>\n",
       "      <th>education-num</th>\n",
       "      <th>marital-status</th>\n",
       "      <th>occupation</th>\n",
       "      <th>relationship</th>\n",
       "      <th>race</th>\n",
       "      <th>sex</th>\n",
       "      <th>capital-gain</th>\n",
       "      <th>capital-loss</th>\n",
       "      <th>hours-per-week</th>\n",
       "      <th>&gt;50K,&lt;=50K</th>\n",
       "    </tr>\n",
       "  </thead>\n",
       "  <tbody>\n",
       "    <tr>\n",
       "      <th>0</th>\n",
       "      <td>34</td>\n",
       "      <td>Local-gov</td>\n",
       "      <td>284843</td>\n",
       "      <td>HS-grad</td>\n",
       "      <td>9</td>\n",
       "      <td>Never-married</td>\n",
       "      <td>Farming-fishing</td>\n",
       "      <td>Not-in-family</td>\n",
       "      <td>Black</td>\n",
       "      <td>Male</td>\n",
       "      <td>594</td>\n",
       "      <td>0</td>\n",
       "      <td>60</td>\n",
       "      <td>&lt;=50K</td>\n",
       "    </tr>\n",
       "    <tr>\n",
       "      <th>1</th>\n",
       "      <td>40</td>\n",
       "      <td>Private</td>\n",
       "      <td>190290</td>\n",
       "      <td>Some-college</td>\n",
       "      <td>10</td>\n",
       "      <td>Divorced</td>\n",
       "      <td>Sales</td>\n",
       "      <td>Not-in-family</td>\n",
       "      <td>White</td>\n",
       "      <td>Male</td>\n",
       "      <td>0</td>\n",
       "      <td>0</td>\n",
       "      <td>40</td>\n",
       "      <td>&lt;=50K</td>\n",
       "    </tr>\n",
       "    <tr>\n",
       "      <th>2</th>\n",
       "      <td>36</td>\n",
       "      <td>Local-gov</td>\n",
       "      <td>177858</td>\n",
       "      <td>Bachelors</td>\n",
       "      <td>13</td>\n",
       "      <td>Married-civ-spouse</td>\n",
       "      <td>Prof-specialty</td>\n",
       "      <td>Own-child</td>\n",
       "      <td>White</td>\n",
       "      <td>Male</td>\n",
       "      <td>0</td>\n",
       "      <td>0</td>\n",
       "      <td>40</td>\n",
       "      <td>&lt;=50K</td>\n",
       "    </tr>\n",
       "    <tr>\n",
       "      <th>3</th>\n",
       "      <td>22</td>\n",
       "      <td>Private</td>\n",
       "      <td>184756</td>\n",
       "      <td>Some-college</td>\n",
       "      <td>10</td>\n",
       "      <td>Never-married</td>\n",
       "      <td>Sales</td>\n",
       "      <td>Own-child</td>\n",
       "      <td>White</td>\n",
       "      <td>Female</td>\n",
       "      <td>0</td>\n",
       "      <td>0</td>\n",
       "      <td>30</td>\n",
       "      <td>&lt;=50K</td>\n",
       "    </tr>\n",
       "    <tr>\n",
       "      <th>4</th>\n",
       "      <td>47</td>\n",
       "      <td>Private</td>\n",
       "      <td>149700</td>\n",
       "      <td>Bachelors</td>\n",
       "      <td>13</td>\n",
       "      <td>Married-civ-spouse</td>\n",
       "      <td>Tech-support</td>\n",
       "      <td>Husband</td>\n",
       "      <td>White</td>\n",
       "      <td>Male</td>\n",
       "      <td>15024</td>\n",
       "      <td>0</td>\n",
       "      <td>40</td>\n",
       "      <td>&gt;50K</td>\n",
       "    </tr>\n",
       "    <tr>\n",
       "      <th>5</th>\n",
       "      <td>18</td>\n",
       "      <td>Private</td>\n",
       "      <td>446771</td>\n",
       "      <td>Some-college</td>\n",
       "      <td>10</td>\n",
       "      <td>Never-married</td>\n",
       "      <td>Adm-clerical</td>\n",
       "      <td>Own-child</td>\n",
       "      <td>White</td>\n",
       "      <td>Male</td>\n",
       "      <td>0</td>\n",
       "      <td>0</td>\n",
       "      <td>25</td>\n",
       "      <td>&lt;=50K</td>\n",
       "    </tr>\n",
       "    <tr>\n",
       "      <th>6</th>\n",
       "      <td>31</td>\n",
       "      <td>Federal-gov</td>\n",
       "      <td>108464</td>\n",
       "      <td>Assoc-acdm</td>\n",
       "      <td>12</td>\n",
       "      <td>Married-civ-spouse</td>\n",
       "      <td>Tech-support</td>\n",
       "      <td>Husband</td>\n",
       "      <td>White</td>\n",
       "      <td>Male</td>\n",
       "      <td>0</td>\n",
       "      <td>0</td>\n",
       "      <td>40</td>\n",
       "      <td>&lt;=50K</td>\n",
       "    </tr>\n",
       "    <tr>\n",
       "      <th>7</th>\n",
       "      <td>18</td>\n",
       "      <td>?</td>\n",
       "      <td>423460</td>\n",
       "      <td>11th</td>\n",
       "      <td>7</td>\n",
       "      <td>Never-married</td>\n",
       "      <td>?</td>\n",
       "      <td>Own-child</td>\n",
       "      <td>White</td>\n",
       "      <td>Male</td>\n",
       "      <td>0</td>\n",
       "      <td>0</td>\n",
       "      <td>36</td>\n",
       "      <td>&lt;=50K</td>\n",
       "    </tr>\n",
       "    <tr>\n",
       "      <th>8</th>\n",
       "      <td>25</td>\n",
       "      <td>Private</td>\n",
       "      <td>110138</td>\n",
       "      <td>HS-grad</td>\n",
       "      <td>9</td>\n",
       "      <td>Never-married</td>\n",
       "      <td>Other-service</td>\n",
       "      <td>Not-in-family</td>\n",
       "      <td>White</td>\n",
       "      <td>Male</td>\n",
       "      <td>0</td>\n",
       "      <td>0</td>\n",
       "      <td>40</td>\n",
       "      <td>&lt;=50K</td>\n",
       "    </tr>\n",
       "    <tr>\n",
       "      <th>9</th>\n",
       "      <td>53</td>\n",
       "      <td>Federal-gov</td>\n",
       "      <td>167410</td>\n",
       "      <td>Bachelors</td>\n",
       "      <td>13</td>\n",
       "      <td>Divorced</td>\n",
       "      <td>Tech-support</td>\n",
       "      <td>Not-in-family</td>\n",
       "      <td>Amer-Indian-Eskimo</td>\n",
       "      <td>Male</td>\n",
       "      <td>0</td>\n",
       "      <td>0</td>\n",
       "      <td>40</td>\n",
       "      <td>&lt;=50K</td>\n",
       "    </tr>\n",
       "  </tbody>\n",
       "</table>\n",
       "</div>"
      ],
      "text/plain": [
       "   age    workclass  fnlwgt     education  education-num      marital-status  \\\n",
       "0   34    Local-gov  284843       HS-grad              9       Never-married   \n",
       "1   40      Private  190290  Some-college             10            Divorced   \n",
       "2   36    Local-gov  177858     Bachelors             13  Married-civ-spouse   \n",
       "3   22      Private  184756  Some-college             10       Never-married   \n",
       "4   47      Private  149700     Bachelors             13  Married-civ-spouse   \n",
       "5   18      Private  446771  Some-college             10       Never-married   \n",
       "6   31  Federal-gov  108464    Assoc-acdm             12  Married-civ-spouse   \n",
       "7   18            ?  423460          11th              7       Never-married   \n",
       "8   25      Private  110138       HS-grad              9       Never-married   \n",
       "9   53  Federal-gov  167410     Bachelors             13            Divorced   \n",
       "\n",
       "        occupation   relationship                race     sex  capital-gain  \\\n",
       "0  Farming-fishing  Not-in-family               Black    Male           594   \n",
       "1            Sales  Not-in-family               White    Male             0   \n",
       "2   Prof-specialty      Own-child               White    Male             0   \n",
       "3            Sales      Own-child               White  Female             0   \n",
       "4     Tech-support        Husband               White    Male         15024   \n",
       "5     Adm-clerical      Own-child               White    Male             0   \n",
       "6     Tech-support        Husband               White    Male             0   \n",
       "7                ?      Own-child               White    Male             0   \n",
       "8    Other-service  Not-in-family               White    Male             0   \n",
       "9     Tech-support  Not-in-family  Amer-Indian-Eskimo    Male             0   \n",
       "\n",
       "   capital-loss  hours-per-week >50K,<=50K  \n",
       "0             0              60      <=50K  \n",
       "1             0              40      <=50K  \n",
       "2             0              40      <=50K  \n",
       "3             0              30      <=50K  \n",
       "4             0              40       >50K  \n",
       "5             0              25      <=50K  \n",
       "6             0              40      <=50K  \n",
       "7             0              36      <=50K  \n",
       "8             0              40      <=50K  \n",
       "9             0              40      <=50K  "
      ]
     },
     "execution_count": 5,
     "metadata": {},
     "output_type": "execute_result"
    }
   ],
   "source": [
    "data[:10]"
   ]
  },
  {
   "cell_type": "markdown",
   "metadata": {
    "id": "r73oSpt7gJ2J"
   },
   "source": [
    "### Задание\n",
    "Проведите с данными необходимые операции:\n",
    "\n",
    "* Замените все знаки \"?\" на `np.nan`.\n",
    "* Найдите все столбцы со значениями NaN. Напечатайте их названия.\n",
    "* Выделите вектор ответов. Закодируйте правильные ответы 0 и 1:\n",
    "    * '<=50K' -> 0;\n",
    "    * '>50K' -> 1.\n",
    "* Сохраните их в отдельную переменную `y` типа `np.array`. \n",
    "* Удалите из data правильные ответы."
   ]
  },
  {
   "cell_type": "code",
   "execution_count": 6,
   "metadata": {
    "id": "mXlICdKqgdX9"
   },
   "outputs": [],
   "source": [
    "# Заменить \"?\" на np.nan\n",
    "data.replace('?', np.nan, inplace=True)"
   ]
  },
  {
   "cell_type": "markdown",
   "metadata": {
    "id": "PPUP7ZiDTbOP"
   },
   "source": [
    "**Вопрос**. В каких колонках присутствуют пропущенные значения?"
   ]
  },
  {
   "cell_type": "code",
   "execution_count": 7,
   "metadata": {
    "id": "ytnQP7QAglE3"
   },
   "outputs": [
    {
     "name": "stdout",
     "output_type": "stream",
     "text": [
      "Index(['workclass', 'occupation'], dtype='object')\n"
     ]
    }
   ],
   "source": [
    "# Найдите колонки с пропущенными значениями\n",
    "columns_with_missing_values = data.columns[data.isnull().any()]\n",
    "print(columns_with_missing_values)"
   ]
  },
  {
   "cell_type": "code",
   "execution_count": 8,
   "metadata": {
    "id": "cf5JyNBZgwlt"
   },
   "outputs": [],
   "source": [
    "# Выделение вектора ответов и закодирование правильных ответов\n",
    "data['target'] = data['>50K,<=50K'].apply(lambda x: 1 if x == '>50K' else 0)\n",
    "y = data['target'].values\n",
    "\n",
    "# Преобразование типа целевой переменной в np.int32\n",
    "y = y.astype(np.int32, copy=False)"
   ]
  },
  {
   "cell_type": "markdown",
   "metadata": {
    "id": "TPD9ajVrg1BR"
   },
   "source": [
    "Удалим ответы из data."
   ]
  },
  {
   "cell_type": "code",
   "execution_count": 9,
   "metadata": {
    "id": "I01IPnPjg3FF"
   },
   "outputs": [],
   "source": [
    "# Удаление правильных ответов из данных\n",
    "data.drop(['>50K,<=50K', 'target'], axis=1, inplace=True)"
   ]
  },
  {
   "cell_type": "markdown",
   "metadata": {
    "id": "nlnToxmFhqE9"
   },
   "source": [
    "**Вопрос**. Какие из признаков являются вещественными?\n",
    "\n",
    "Выделите вещественные и категориальные признаки."
   ]
  },
  {
   "cell_type": "code",
   "execution_count": 10,
   "metadata": {
    "id": "18laWWWzenxm"
   },
   "outputs": [
    {
     "data": {
      "text/html": [
       "<div>\n",
       "<style scoped>\n",
       "    .dataframe tbody tr th:only-of-type {\n",
       "        vertical-align: middle;\n",
       "    }\n",
       "\n",
       "    .dataframe tbody tr th {\n",
       "        vertical-align: top;\n",
       "    }\n",
       "\n",
       "    .dataframe thead th {\n",
       "        text-align: right;\n",
       "    }\n",
       "</style>\n",
       "<table border=\"1\" class=\"dataframe\">\n",
       "  <thead>\n",
       "    <tr style=\"text-align: right;\">\n",
       "      <th></th>\n",
       "    </tr>\n",
       "  </thead>\n",
       "  <tbody>\n",
       "    <tr>\n",
       "      <th>0</th>\n",
       "    </tr>\n",
       "    <tr>\n",
       "      <th>1</th>\n",
       "    </tr>\n",
       "    <tr>\n",
       "      <th>2</th>\n",
       "    </tr>\n",
       "    <tr>\n",
       "      <th>3</th>\n",
       "    </tr>\n",
       "    <tr>\n",
       "      <th>4</th>\n",
       "    </tr>\n",
       "    <tr>\n",
       "      <th>5</th>\n",
       "    </tr>\n",
       "    <tr>\n",
       "      <th>6</th>\n",
       "    </tr>\n",
       "    <tr>\n",
       "      <th>7</th>\n",
       "    </tr>\n",
       "    <tr>\n",
       "      <th>8</th>\n",
       "    </tr>\n",
       "    <tr>\n",
       "      <th>9</th>\n",
       "    </tr>\n",
       "  </tbody>\n",
       "</table>\n",
       "</div>"
      ],
      "text/plain": [
       "Empty DataFrame\n",
       "Columns: []\n",
       "Index: [0, 1, 2, 3, 4, 5, 6, 7, 8, 9]"
      ]
     },
     "execution_count": 10,
     "metadata": {},
     "output_type": "execute_result"
    }
   ],
   "source": [
    "real_columns = data.select_dtypes(include='float64').columns.tolist()\n",
    "\n",
    "real_data = data[real_columns]\n",
    "real_data[:10]"
   ]
  },
  {
   "cell_type": "code",
   "execution_count": 11,
   "metadata": {
    "id": "92_XZLWWhzOv"
   },
   "outputs": [
    {
     "data": {
      "text/html": [
       "<div>\n",
       "<style scoped>\n",
       "    .dataframe tbody tr th:only-of-type {\n",
       "        vertical-align: middle;\n",
       "    }\n",
       "\n",
       "    .dataframe tbody tr th {\n",
       "        vertical-align: top;\n",
       "    }\n",
       "\n",
       "    .dataframe thead th {\n",
       "        text-align: right;\n",
       "    }\n",
       "</style>\n",
       "<table border=\"1\" class=\"dataframe\">\n",
       "  <thead>\n",
       "    <tr style=\"text-align: right;\">\n",
       "      <th></th>\n",
       "      <th>workclass</th>\n",
       "      <th>education</th>\n",
       "      <th>marital-status</th>\n",
       "      <th>occupation</th>\n",
       "      <th>relationship</th>\n",
       "      <th>race</th>\n",
       "      <th>sex</th>\n",
       "    </tr>\n",
       "  </thead>\n",
       "  <tbody>\n",
       "    <tr>\n",
       "      <th>0</th>\n",
       "      <td>Local-gov</td>\n",
       "      <td>HS-grad</td>\n",
       "      <td>Never-married</td>\n",
       "      <td>Farming-fishing</td>\n",
       "      <td>Not-in-family</td>\n",
       "      <td>Black</td>\n",
       "      <td>Male</td>\n",
       "    </tr>\n",
       "    <tr>\n",
       "      <th>1</th>\n",
       "      <td>Private</td>\n",
       "      <td>Some-college</td>\n",
       "      <td>Divorced</td>\n",
       "      <td>Sales</td>\n",
       "      <td>Not-in-family</td>\n",
       "      <td>White</td>\n",
       "      <td>Male</td>\n",
       "    </tr>\n",
       "    <tr>\n",
       "      <th>2</th>\n",
       "      <td>Local-gov</td>\n",
       "      <td>Bachelors</td>\n",
       "      <td>Married-civ-spouse</td>\n",
       "      <td>Prof-specialty</td>\n",
       "      <td>Own-child</td>\n",
       "      <td>White</td>\n",
       "      <td>Male</td>\n",
       "    </tr>\n",
       "    <tr>\n",
       "      <th>3</th>\n",
       "      <td>Private</td>\n",
       "      <td>Some-college</td>\n",
       "      <td>Never-married</td>\n",
       "      <td>Sales</td>\n",
       "      <td>Own-child</td>\n",
       "      <td>White</td>\n",
       "      <td>Female</td>\n",
       "    </tr>\n",
       "    <tr>\n",
       "      <th>4</th>\n",
       "      <td>Private</td>\n",
       "      <td>Bachelors</td>\n",
       "      <td>Married-civ-spouse</td>\n",
       "      <td>Tech-support</td>\n",
       "      <td>Husband</td>\n",
       "      <td>White</td>\n",
       "      <td>Male</td>\n",
       "    </tr>\n",
       "    <tr>\n",
       "      <th>5</th>\n",
       "      <td>Private</td>\n",
       "      <td>Some-college</td>\n",
       "      <td>Never-married</td>\n",
       "      <td>Adm-clerical</td>\n",
       "      <td>Own-child</td>\n",
       "      <td>White</td>\n",
       "      <td>Male</td>\n",
       "    </tr>\n",
       "    <tr>\n",
       "      <th>6</th>\n",
       "      <td>Federal-gov</td>\n",
       "      <td>Assoc-acdm</td>\n",
       "      <td>Married-civ-spouse</td>\n",
       "      <td>Tech-support</td>\n",
       "      <td>Husband</td>\n",
       "      <td>White</td>\n",
       "      <td>Male</td>\n",
       "    </tr>\n",
       "    <tr>\n",
       "      <th>7</th>\n",
       "      <td>NaN</td>\n",
       "      <td>11th</td>\n",
       "      <td>Never-married</td>\n",
       "      <td>NaN</td>\n",
       "      <td>Own-child</td>\n",
       "      <td>White</td>\n",
       "      <td>Male</td>\n",
       "    </tr>\n",
       "    <tr>\n",
       "      <th>8</th>\n",
       "      <td>Private</td>\n",
       "      <td>HS-grad</td>\n",
       "      <td>Never-married</td>\n",
       "      <td>Other-service</td>\n",
       "      <td>Not-in-family</td>\n",
       "      <td>White</td>\n",
       "      <td>Male</td>\n",
       "    </tr>\n",
       "    <tr>\n",
       "      <th>9</th>\n",
       "      <td>Federal-gov</td>\n",
       "      <td>Bachelors</td>\n",
       "      <td>Divorced</td>\n",
       "      <td>Tech-support</td>\n",
       "      <td>Not-in-family</td>\n",
       "      <td>Amer-Indian-Eskimo</td>\n",
       "      <td>Male</td>\n",
       "    </tr>\n",
       "  </tbody>\n",
       "</table>\n",
       "</div>"
      ],
      "text/plain": [
       "     workclass     education      marital-status       occupation  \\\n",
       "0    Local-gov       HS-grad       Never-married  Farming-fishing   \n",
       "1      Private  Some-college            Divorced            Sales   \n",
       "2    Local-gov     Bachelors  Married-civ-spouse   Prof-specialty   \n",
       "3      Private  Some-college       Never-married            Sales   \n",
       "4      Private     Bachelors  Married-civ-spouse     Tech-support   \n",
       "5      Private  Some-college       Never-married     Adm-clerical   \n",
       "6  Federal-gov    Assoc-acdm  Married-civ-spouse     Tech-support   \n",
       "7          NaN          11th       Never-married              NaN   \n",
       "8      Private       HS-grad       Never-married    Other-service   \n",
       "9  Federal-gov     Bachelors            Divorced     Tech-support   \n",
       "\n",
       "    relationship                race     sex  \n",
       "0  Not-in-family               Black    Male  \n",
       "1  Not-in-family               White    Male  \n",
       "2      Own-child               White    Male  \n",
       "3      Own-child               White  Female  \n",
       "4        Husband               White    Male  \n",
       "5      Own-child               White    Male  \n",
       "6        Husband               White    Male  \n",
       "7      Own-child               White    Male  \n",
       "8  Not-in-family               White    Male  \n",
       "9  Not-in-family  Amer-Indian-Eskimo    Male  "
      ]
     },
     "execution_count": 11,
     "metadata": {},
     "output_type": "execute_result"
    }
   ],
   "source": [
    "cat_columns = data.select_dtypes(include='object').columns.tolist()\n",
    "\n",
    "cat_data = data[cat_columns]\n",
    "cat_data[:10]"
   ]
  },
  {
   "cell_type": "markdown",
   "metadata": {
    "id": "pczwiJKliLFF"
   },
   "source": [
    "### Задание\n",
    "Выделите One-hot признаки из данных с помощю объекта `OneHotEncoder` из модуля `sklearn.preprocessing`."
   ]
  },
  {
   "cell_type": "code",
   "execution_count": 12,
   "metadata": {
    "id": "aECoFnirKuxo"
   },
   "outputs": [],
   "source": [
    "from sklearn.preprocessing import OneHotEncoder"
   ]
  },
  {
   "cell_type": "code",
   "execution_count": 13,
   "metadata": {
    "id": "ZpH5pTkViDQy",
    "scrolled": true
   },
   "outputs": [
    {
     "data": {
      "text/html": [
       "<div>\n",
       "<style scoped>\n",
       "    .dataframe tbody tr th:only-of-type {\n",
       "        vertical-align: middle;\n",
       "    }\n",
       "\n",
       "    .dataframe tbody tr th {\n",
       "        vertical-align: top;\n",
       "    }\n",
       "\n",
       "    .dataframe thead th {\n",
       "        text-align: right;\n",
       "    }\n",
       "</style>\n",
       "<table border=\"1\" class=\"dataframe\">\n",
       "  <thead>\n",
       "    <tr style=\"text-align: right;\">\n",
       "      <th></th>\n",
       "      <th>0</th>\n",
       "      <th>1</th>\n",
       "      <th>2</th>\n",
       "      <th>3</th>\n",
       "      <th>4</th>\n",
       "      <th>5</th>\n",
       "      <th>6</th>\n",
       "      <th>7</th>\n",
       "      <th>8</th>\n",
       "      <th>9</th>\n",
       "      <th>...</th>\n",
       "      <th>50</th>\n",
       "      <th>51</th>\n",
       "      <th>52</th>\n",
       "      <th>53</th>\n",
       "      <th>54</th>\n",
       "      <th>55</th>\n",
       "      <th>56</th>\n",
       "      <th>57</th>\n",
       "      <th>58</th>\n",
       "      <th>59</th>\n",
       "    </tr>\n",
       "  </thead>\n",
       "  <tbody>\n",
       "    <tr>\n",
       "      <th>0</th>\n",
       "      <td>0.0</td>\n",
       "      <td>1.0</td>\n",
       "      <td>0.0</td>\n",
       "      <td>0.0</td>\n",
       "      <td>0.0</td>\n",
       "      <td>0.0</td>\n",
       "      <td>0.0</td>\n",
       "      <td>0.0</td>\n",
       "      <td>0.0</td>\n",
       "      <td>0.0</td>\n",
       "      <td>...</td>\n",
       "      <td>0.0</td>\n",
       "      <td>0.0</td>\n",
       "      <td>0.0</td>\n",
       "      <td>0.0</td>\n",
       "      <td>0.0</td>\n",
       "      <td>1.0</td>\n",
       "      <td>0.0</td>\n",
       "      <td>0.0</td>\n",
       "      <td>0.0</td>\n",
       "      <td>1.0</td>\n",
       "    </tr>\n",
       "    <tr>\n",
       "      <th>1</th>\n",
       "      <td>0.0</td>\n",
       "      <td>0.0</td>\n",
       "      <td>0.0</td>\n",
       "      <td>1.0</td>\n",
       "      <td>0.0</td>\n",
       "      <td>0.0</td>\n",
       "      <td>0.0</td>\n",
       "      <td>0.0</td>\n",
       "      <td>0.0</td>\n",
       "      <td>0.0</td>\n",
       "      <td>...</td>\n",
       "      <td>0.0</td>\n",
       "      <td>0.0</td>\n",
       "      <td>0.0</td>\n",
       "      <td>0.0</td>\n",
       "      <td>0.0</td>\n",
       "      <td>0.0</td>\n",
       "      <td>0.0</td>\n",
       "      <td>1.0</td>\n",
       "      <td>0.0</td>\n",
       "      <td>1.0</td>\n",
       "    </tr>\n",
       "    <tr>\n",
       "      <th>2</th>\n",
       "      <td>0.0</td>\n",
       "      <td>1.0</td>\n",
       "      <td>0.0</td>\n",
       "      <td>0.0</td>\n",
       "      <td>0.0</td>\n",
       "      <td>0.0</td>\n",
       "      <td>0.0</td>\n",
       "      <td>0.0</td>\n",
       "      <td>0.0</td>\n",
       "      <td>0.0</td>\n",
       "      <td>...</td>\n",
       "      <td>1.0</td>\n",
       "      <td>0.0</td>\n",
       "      <td>0.0</td>\n",
       "      <td>0.0</td>\n",
       "      <td>0.0</td>\n",
       "      <td>0.0</td>\n",
       "      <td>0.0</td>\n",
       "      <td>1.0</td>\n",
       "      <td>0.0</td>\n",
       "      <td>1.0</td>\n",
       "    </tr>\n",
       "    <tr>\n",
       "      <th>3</th>\n",
       "      <td>0.0</td>\n",
       "      <td>0.0</td>\n",
       "      <td>0.0</td>\n",
       "      <td>1.0</td>\n",
       "      <td>0.0</td>\n",
       "      <td>0.0</td>\n",
       "      <td>0.0</td>\n",
       "      <td>0.0</td>\n",
       "      <td>0.0</td>\n",
       "      <td>0.0</td>\n",
       "      <td>...</td>\n",
       "      <td>1.0</td>\n",
       "      <td>0.0</td>\n",
       "      <td>0.0</td>\n",
       "      <td>0.0</td>\n",
       "      <td>0.0</td>\n",
       "      <td>0.0</td>\n",
       "      <td>0.0</td>\n",
       "      <td>1.0</td>\n",
       "      <td>1.0</td>\n",
       "      <td>0.0</td>\n",
       "    </tr>\n",
       "    <tr>\n",
       "      <th>4</th>\n",
       "      <td>0.0</td>\n",
       "      <td>0.0</td>\n",
       "      <td>0.0</td>\n",
       "      <td>1.0</td>\n",
       "      <td>0.0</td>\n",
       "      <td>0.0</td>\n",
       "      <td>0.0</td>\n",
       "      <td>0.0</td>\n",
       "      <td>0.0</td>\n",
       "      <td>0.0</td>\n",
       "      <td>...</td>\n",
       "      <td>0.0</td>\n",
       "      <td>0.0</td>\n",
       "      <td>0.0</td>\n",
       "      <td>0.0</td>\n",
       "      <td>0.0</td>\n",
       "      <td>0.0</td>\n",
       "      <td>0.0</td>\n",
       "      <td>1.0</td>\n",
       "      <td>0.0</td>\n",
       "      <td>1.0</td>\n",
       "    </tr>\n",
       "    <tr>\n",
       "      <th>5</th>\n",
       "      <td>0.0</td>\n",
       "      <td>0.0</td>\n",
       "      <td>0.0</td>\n",
       "      <td>1.0</td>\n",
       "      <td>0.0</td>\n",
       "      <td>0.0</td>\n",
       "      <td>0.0</td>\n",
       "      <td>0.0</td>\n",
       "      <td>0.0</td>\n",
       "      <td>0.0</td>\n",
       "      <td>...</td>\n",
       "      <td>1.0</td>\n",
       "      <td>0.0</td>\n",
       "      <td>0.0</td>\n",
       "      <td>0.0</td>\n",
       "      <td>0.0</td>\n",
       "      <td>0.0</td>\n",
       "      <td>0.0</td>\n",
       "      <td>1.0</td>\n",
       "      <td>0.0</td>\n",
       "      <td>1.0</td>\n",
       "    </tr>\n",
       "    <tr>\n",
       "      <th>6</th>\n",
       "      <td>1.0</td>\n",
       "      <td>0.0</td>\n",
       "      <td>0.0</td>\n",
       "      <td>0.0</td>\n",
       "      <td>0.0</td>\n",
       "      <td>0.0</td>\n",
       "      <td>0.0</td>\n",
       "      <td>0.0</td>\n",
       "      <td>0.0</td>\n",
       "      <td>0.0</td>\n",
       "      <td>...</td>\n",
       "      <td>0.0</td>\n",
       "      <td>0.0</td>\n",
       "      <td>0.0</td>\n",
       "      <td>0.0</td>\n",
       "      <td>0.0</td>\n",
       "      <td>0.0</td>\n",
       "      <td>0.0</td>\n",
       "      <td>1.0</td>\n",
       "      <td>0.0</td>\n",
       "      <td>1.0</td>\n",
       "    </tr>\n",
       "    <tr>\n",
       "      <th>7</th>\n",
       "      <td>0.0</td>\n",
       "      <td>0.0</td>\n",
       "      <td>0.0</td>\n",
       "      <td>0.0</td>\n",
       "      <td>0.0</td>\n",
       "      <td>0.0</td>\n",
       "      <td>0.0</td>\n",
       "      <td>0.0</td>\n",
       "      <td>1.0</td>\n",
       "      <td>0.0</td>\n",
       "      <td>...</td>\n",
       "      <td>1.0</td>\n",
       "      <td>0.0</td>\n",
       "      <td>0.0</td>\n",
       "      <td>0.0</td>\n",
       "      <td>0.0</td>\n",
       "      <td>0.0</td>\n",
       "      <td>0.0</td>\n",
       "      <td>1.0</td>\n",
       "      <td>0.0</td>\n",
       "      <td>1.0</td>\n",
       "    </tr>\n",
       "    <tr>\n",
       "      <th>8</th>\n",
       "      <td>0.0</td>\n",
       "      <td>0.0</td>\n",
       "      <td>0.0</td>\n",
       "      <td>1.0</td>\n",
       "      <td>0.0</td>\n",
       "      <td>0.0</td>\n",
       "      <td>0.0</td>\n",
       "      <td>0.0</td>\n",
       "      <td>0.0</td>\n",
       "      <td>0.0</td>\n",
       "      <td>...</td>\n",
       "      <td>0.0</td>\n",
       "      <td>0.0</td>\n",
       "      <td>0.0</td>\n",
       "      <td>0.0</td>\n",
       "      <td>0.0</td>\n",
       "      <td>0.0</td>\n",
       "      <td>0.0</td>\n",
       "      <td>1.0</td>\n",
       "      <td>0.0</td>\n",
       "      <td>1.0</td>\n",
       "    </tr>\n",
       "    <tr>\n",
       "      <th>9</th>\n",
       "      <td>1.0</td>\n",
       "      <td>0.0</td>\n",
       "      <td>0.0</td>\n",
       "      <td>0.0</td>\n",
       "      <td>0.0</td>\n",
       "      <td>0.0</td>\n",
       "      <td>0.0</td>\n",
       "      <td>0.0</td>\n",
       "      <td>0.0</td>\n",
       "      <td>0.0</td>\n",
       "      <td>...</td>\n",
       "      <td>0.0</td>\n",
       "      <td>0.0</td>\n",
       "      <td>0.0</td>\n",
       "      <td>1.0</td>\n",
       "      <td>0.0</td>\n",
       "      <td>0.0</td>\n",
       "      <td>0.0</td>\n",
       "      <td>0.0</td>\n",
       "      <td>0.0</td>\n",
       "      <td>1.0</td>\n",
       "    </tr>\n",
       "  </tbody>\n",
       "</table>\n",
       "<p>10 rows × 60 columns</p>\n",
       "</div>"
      ],
      "text/plain": [
       "    0    1    2    3    4    5    6    7    8    9   ...   50   51   52   53  \\\n",
       "0  0.0  1.0  0.0  0.0  0.0  0.0  0.0  0.0  0.0  0.0  ...  0.0  0.0  0.0  0.0   \n",
       "1  0.0  0.0  0.0  1.0  0.0  0.0  0.0  0.0  0.0  0.0  ...  0.0  0.0  0.0  0.0   \n",
       "2  0.0  1.0  0.0  0.0  0.0  0.0  0.0  0.0  0.0  0.0  ...  1.0  0.0  0.0  0.0   \n",
       "3  0.0  0.0  0.0  1.0  0.0  0.0  0.0  0.0  0.0  0.0  ...  1.0  0.0  0.0  0.0   \n",
       "4  0.0  0.0  0.0  1.0  0.0  0.0  0.0  0.0  0.0  0.0  ...  0.0  0.0  0.0  0.0   \n",
       "5  0.0  0.0  0.0  1.0  0.0  0.0  0.0  0.0  0.0  0.0  ...  1.0  0.0  0.0  0.0   \n",
       "6  1.0  0.0  0.0  0.0  0.0  0.0  0.0  0.0  0.0  0.0  ...  0.0  0.0  0.0  0.0   \n",
       "7  0.0  0.0  0.0  0.0  0.0  0.0  0.0  0.0  1.0  0.0  ...  1.0  0.0  0.0  0.0   \n",
       "8  0.0  0.0  0.0  1.0  0.0  0.0  0.0  0.0  0.0  0.0  ...  0.0  0.0  0.0  0.0   \n",
       "9  1.0  0.0  0.0  0.0  0.0  0.0  0.0  0.0  0.0  0.0  ...  0.0  0.0  0.0  1.0   \n",
       "\n",
       "    54   55   56   57   58   59  \n",
       "0  0.0  1.0  0.0  0.0  0.0  1.0  \n",
       "1  0.0  0.0  0.0  1.0  0.0  1.0  \n",
       "2  0.0  0.0  0.0  1.0  0.0  1.0  \n",
       "3  0.0  0.0  0.0  1.0  1.0  0.0  \n",
       "4  0.0  0.0  0.0  1.0  0.0  1.0  \n",
       "5  0.0  0.0  0.0  1.0  0.0  1.0  \n",
       "6  0.0  0.0  0.0  1.0  0.0  1.0  \n",
       "7  0.0  0.0  0.0  1.0  0.0  1.0  \n",
       "8  0.0  0.0  0.0  1.0  0.0  1.0  \n",
       "9  0.0  0.0  0.0  0.0  0.0  1.0  \n",
       "\n",
       "[10 rows x 60 columns]"
      ]
     },
     "execution_count": 13,
     "metadata": {},
     "output_type": "execute_result"
    }
   ],
   "source": [
    "ohe = OneHotEncoder(handle_unknown='ignore', sparse_output=False)\n",
    "one_hot_data = ohe.fit_transform(cat_data)\n",
    "one_hot_data = pd.DataFrame(one_hot_data, index=cat_data.index)\n",
    "one_hot_data[:10]"
   ]
  },
  {
   "cell_type": "markdown",
   "metadata": {
    "id": "M-df8f5Kngx3"
   },
   "source": [
    "Наконец, разобьем данные на train и test в соотношении 70:30. "
   ]
  },
  {
   "cell_type": "code",
   "execution_count": 14,
   "metadata": {
    "id": "bhOsxa7-ntza"
   },
   "outputs": [],
   "source": [
    "from sklearn.model_selection import train_test_split\n",
    "\n",
    "train_data, test_data, train_real_data, test_real_data, \\\n",
    "train_cat_data, test_cat_data, train_one_hot_data, test_one_hot_data, \\\n",
    "y_train, y_test = train_test_split(data, real_data, \n",
    "                                   cat_data, one_hot_data, \n",
    "                                   y, train_size=0.7)"
   ]
  },
  {
   "cell_type": "markdown",
   "metadata": {
    "id": "rSz6Zi14Kuxp"
   },
   "source": [
    "### Задание\n",
    "Проделайте все то же самые операции для scoring_data.\n",
    "* Загрузите данные из файла data_scoring.csv;\n",
    "* Замените \"?\" на `np.nan`;\n",
    "* Выделите числовые и категориальные данные;\n",
    "* Закодируйте категориальные данные с помощью уже созданного `ohe`. Новый объект класса `OneHotEncoding` создавать не нужно. Используйте метод `ohe.transform`."
   ]
  },
  {
   "cell_type": "code",
   "execution_count": 15,
   "metadata": {
    "id": "_jM3gw9TfQ5I"
   },
   "outputs": [
    {
     "name": "stderr",
     "output_type": "stream",
     "text": [
      "\"gdown\" не является внутренней или внешней\n",
      "командой, исполняемой программой или пакетным файлом.\n"
     ]
    }
   ],
   "source": [
    "!gdown 1tguHTZm9-sUwTRzqAEuqLRUzKHqkvVmQ"
   ]
  },
  {
   "cell_type": "code",
   "execution_count": 16,
   "metadata": {
    "id": "qEu_LMMdKuxp"
   },
   "outputs": [
    {
     "name": "stdout",
     "output_type": "stream",
     "text": [
      "Empty DataFrame\n",
      "Columns: []\n",
      "Index: [0, 1, 2, 3, 4, 5, 6, 7, 8, 9]\n",
      "          workclass     education      marital-status         occupation  \\\n",
      "0               NaN          10th       Never-married                NaN   \n",
      "1           Private     Bachelors       Never-married              Sales   \n",
      "2  Self-emp-not-inc       HS-grad  Married-civ-spouse       Craft-repair   \n",
      "3         Local-gov       HS-grad  Married-civ-spouse      Other-service   \n",
      "4           Private  Some-college            Divorced    Exec-managerial   \n",
      "5           Private       HS-grad  Married-civ-spouse       Craft-repair   \n",
      "6  Self-emp-not-inc       HS-grad           Separated       Craft-repair   \n",
      "7           Private       HS-grad  Married-civ-spouse       Craft-repair   \n",
      "8           Private  Some-college  Married-civ-spouse    Farming-fishing   \n",
      "9           Private  Some-college  Married-civ-spouse  Machine-op-inspct   \n",
      "\n",
      "    relationship   race     sex  \n",
      "0      Own-child  White  Female  \n",
      "1  Not-in-family  White    Male  \n",
      "2        Husband  White    Male  \n",
      "3        Husband  White    Male  \n",
      "4  Not-in-family  White  Female  \n",
      "5        Husband  White    Male  \n",
      "6      Own-child  White    Male  \n",
      "7        Husband  White    Male  \n",
      "8        Husband  White    Male  \n",
      "9        Husband  White    Male  \n",
      "    0    1    2    3    4    5    6    7    8    9   ...   50   51   52   53  \\\n",
      "0  0.0  0.0  0.0  0.0  0.0  0.0  0.0  0.0  1.0  1.0  ...  1.0  0.0  0.0  0.0   \n",
      "1  0.0  0.0  0.0  1.0  0.0  0.0  0.0  0.0  0.0  0.0  ...  0.0  0.0  0.0  0.0   \n",
      "2  0.0  0.0  0.0  0.0  0.0  1.0  0.0  0.0  0.0  0.0  ...  0.0  0.0  0.0  0.0   \n",
      "3  0.0  1.0  0.0  0.0  0.0  0.0  0.0  0.0  0.0  0.0  ...  0.0  0.0  0.0  0.0   \n",
      "4  0.0  0.0  0.0  1.0  0.0  0.0  0.0  0.0  0.0  0.0  ...  0.0  0.0  0.0  0.0   \n",
      "5  0.0  0.0  0.0  1.0  0.0  0.0  0.0  0.0  0.0  0.0  ...  0.0  0.0  0.0  0.0   \n",
      "6  0.0  0.0  0.0  0.0  0.0  1.0  0.0  0.0  0.0  0.0  ...  1.0  0.0  0.0  0.0   \n",
      "7  0.0  0.0  0.0  1.0  0.0  0.0  0.0  0.0  0.0  0.0  ...  0.0  0.0  0.0  0.0   \n",
      "8  0.0  0.0  0.0  1.0  0.0  0.0  0.0  0.0  0.0  0.0  ...  0.0  0.0  0.0  0.0   \n",
      "9  0.0  0.0  0.0  1.0  0.0  0.0  0.0  0.0  0.0  0.0  ...  0.0  0.0  0.0  0.0   \n",
      "\n",
      "    54   55   56   57   58   59  \n",
      "0  0.0  0.0  0.0  1.0  1.0  0.0  \n",
      "1  0.0  0.0  0.0  1.0  0.0  1.0  \n",
      "2  0.0  0.0  0.0  1.0  0.0  1.0  \n",
      "3  0.0  0.0  0.0  1.0  0.0  1.0  \n",
      "4  0.0  0.0  0.0  1.0  1.0  0.0  \n",
      "5  0.0  0.0  0.0  1.0  0.0  1.0  \n",
      "6  0.0  0.0  0.0  1.0  0.0  1.0  \n",
      "7  0.0  0.0  0.0  1.0  0.0  1.0  \n",
      "8  0.0  0.0  0.0  1.0  0.0  1.0  \n",
      "9  0.0  0.0  0.0  1.0  0.0  1.0  \n",
      "\n",
      "[10 rows x 60 columns]\n"
     ]
    }
   ],
   "source": [
    "scoring_data = pd.read_csv('data_scoring.csv')\n",
    "\n",
    "# Заменить \"?\" на np.nan\n",
    "scoring_data.replace('?', np.nan, inplace=True)\n",
    "\n",
    "# Выделить числовые и категориальные данные\n",
    "scoring_real_data = scoring_data.select_dtypes(include='float64')\n",
    "scoring_cat_data = scoring_data.select_dtypes(include='object')\n",
    "\n",
    "# Закодировать категориальные данные с помощью OneHotEncoder\n",
    "scoring_one_hot_data = ohe.transform(scoring_cat_data)\n",
    "\n",
    "# Создать DataFrame из one-hot признаков\n",
    "scoring_one_hot_data = pd.DataFrame(scoring_one_hot_data, index=scoring_cat_data.index)\n",
    "\n",
    "# Вывести результаты\n",
    "print(scoring_real_data[:10])\n",
    "print(scoring_cat_data[:10])\n",
    "print(scoring_one_hot_data[:10])"
   ]
  },
  {
   "cell_type": "markdown",
   "metadata": {
    "id": "jEqwTZ56nD5t"
   },
   "source": [
    "## Часть 2. Обучение случайного леса\n",
    "Мы будем использовать модель `RandomForestClassifier` из `sklearn.ensemble`. Вам предстоит подобрать для случайного леса оптимальный параметр глубины. Количество деревьев в этом задании мы будем использовать постоянным и равным 100. \n",
    "\n",
    "Выбор параметра мы будем производить с помощью кросс-валидации на 5 фолдов, используя метод `cross_val_score` из `sklearn.model_selection`. Затем мы обучим окончательную модель на всем `train_data`, а на `test_data` будем считать итоговое качество. \n",
    "\n",
    "Отметим, что для моделей `sklearn` мы не можем по умолчанию использовать категориальные признаки. Поэтому мы будем использовать `train/test_one_hot_data`. "
   ]
  },
  {
   "cell_type": "code",
   "execution_count": 17,
   "metadata": {
    "id": "IwA6nOasqked"
   },
   "outputs": [],
   "source": [
    "from sklearn.ensemble import RandomForestClassifier\n",
    "from sklearn.model_selection import cross_val_score"
   ]
  },
  {
   "cell_type": "markdown",
   "metadata": {
    "id": "SD9uwlalNtiV"
   },
   "source": [
    "Создадим полную матрицу объекты-признаки. Используем числовые и one-hot данные."
   ]
  },
  {
   "cell_type": "code",
   "execution_count": 18,
   "metadata": {
    "id": "_fPjJs4SqsM7"
   },
   "outputs": [],
   "source": [
    "train_data_for_forest = pd.concat([train_real_data, train_one_hot_data], axis='columns')\n",
    "test_data_for_forest = pd.concat([test_real_data, test_one_hot_data], axis='columns')"
   ]
  },
  {
   "cell_type": "markdown",
   "metadata": {
    "id": "gohwNoCyN0HO"
   },
   "source": [
    "### Задание\n",
    "Выберите оптимальный параметр max_depth от 3 до 19 включительно для модели случаного леса. Используйте кросс-валидацию. Для каждой глубины посчитайте среднее по фолдам значение метрики ROC-AUC и запишите получившиеся данные в массив `rf_metrics`. Используйте 5 фолдов для кросс-валидации.\n",
    "\n",
    "**Совет**. Для ускорения работы функции `cross_val_score` используйте параметр n_jobs=-1. "
   ]
  },
  {
   "cell_type": "code",
   "execution_count": 19,
   "metadata": {
    "id": "Qfpk4oS5q8wi"
   },
   "outputs": [],
   "source": [
    "depths = np.arange(3, 20)\n",
    "rf_metrics = []\n",
    "\n",
    "for depth in depths:\n",
    "    model = RandomForestClassifier(max_depth=depth, n_estimators=100)\n",
    "    scores = cross_val_score(model, train_data_for_forest, y_train, cv=5, scoring='roc_auc', n_jobs=-1)\n",
    "        \n",
    "    rf_metrics.append(np.mean(scores))"
   ]
  },
  {
   "cell_type": "markdown",
   "metadata": {
    "id": "WICL-7QwKuxq"
   },
   "source": [
    "Построим график получившейся метрики в зависимости от параметра `depth`."
   ]
  },
  {
   "cell_type": "code",
   "execution_count": 20,
   "metadata": {
    "id": "vEVvBZXVsLyH"
   },
   "outputs": [
    {
     "data": {
      "image/png": "[encoded data removed]",
      "text/plain": [
       "<Figure size 1000x600 with 1 Axes>"
      ]
     },
     "metadata": {},
     "output_type": "display_data"
    }
   ],
   "source": [
    "plt.figure(figsize=(10,6))\n",
    "plt.plot(np.arange(3, 20), rf_metrics)\n",
    "plt.xlabel('depth')\n",
    "plt.ylabel('roc-auc-score')\n",
    "plt.grid()"
   ]
  },
  {
   "cell_type": "markdown",
   "metadata": {
    "id": "sm6R8MoUKuxq"
   },
   "source": [
    "### Задание\n",
    "Выберите оптимальное значение глубины и обучите для этого значения единственную модель `RandomForestClassifier` на всех обучающих данных `train_data_for_forest`. Предскажите вероятность класса 1 на обучающих и тестовых данных. Сохраните их в переменные `train_y_pred_forest` и `test_y_pred_forest`. Используйте метод `predict_proba`."
   ]
  },
  {
   "cell_type": "code",
   "execution_count": 21,
   "metadata": {
    "id": "LNUWEZpXsYB4"
   },
   "outputs": [],
   "source": [
    "best_depth = np.argmax(rf_metrics) + 3\n",
    "\n",
    "model = RandomForestClassifier(n_estimators=100, max_depth=best_depth)\n",
    "\n",
    "# Обучение модели\n",
    "model.fit(train_data_for_forest, y_train)\n",
    "model.fit(test_data_for_forest, y_test)\n",
    "\n",
    "# Предсказание вероятности класса 1 на обучающих и тестовых данных\n",
    "train_y_pred_forest = model.predict_proba(train_data_for_forest)[:, 1]\n",
    "test_y_pred_forest = model.predict_proba(test_data_for_forest)[:, 1]"
   ]
  },
  {
   "cell_type": "markdown",
   "metadata": {
    "id": "RxgqJDnTKuxq"
   },
   "source": [
    "### Задание\n",
    "Вычислите ROC-AUC на обучающем и тестовом множестве."
   ]
  },
  {
   "cell_type": "code",
   "execution_count": 22,
   "metadata": {
    "id": "uqihRC74tGGJ"
   },
   "outputs": [],
   "source": [
    "from sklearn.metrics import roc_curve, roc_auc_score"
   ]
  },
  {
   "cell_type": "code",
   "execution_count": 23,
   "metadata": {
    "id": "8WsSKFNBKuxr"
   },
   "outputs": [],
   "source": [
    "# Вычисление ROC-AUC на обучающем и тестовом множестве\n",
    "train_auc = roc_auc_score(y_train, train_y_pred_forest)\n",
    "test_auc = roc_auc_score(y_test, test_y_pred_forest)"
   ]
  },
  {
   "cell_type": "markdown",
   "metadata": {
    "id": "n4ZBTwgUKuxr"
   },
   "source": [
    "Проверим, что мы получили достаточно хорошие значения для `test_auc`."
   ]
  },
  {
   "cell_type": "code",
   "execution_count": 24,
   "metadata": {
    "id": "fnJ22KZ_Kuxr"
   },
   "outputs": [],
   "source": [
    "assert test_auc > 0.90"
   ]
  },
  {
   "cell_type": "code",
   "execution_count": 25,
   "metadata": {
    "id": "xzvqf4fItB2i"
   },
   "outputs": [
    {
     "data": {
      "image/png": "[encoded data removed]",
      "text/plain": [
       "<Figure size 1000x600 with 1 Axes>"
      ]
     },
     "metadata": {},
     "output_type": "display_data"
    }
   ],
   "source": [
    "plt.figure(figsize=(10,6))\n",
    "plt.plot(*roc_curve(y_train, train_y_pred_forest)[:2], \n",
    "         label=f'train auc={train_auc}')\n",
    "plt.plot(*roc_curve(y_test, test_y_pred_forest)[:2], \n",
    "         label=f'test auc={test_auc}')\n",
    "\n",
    "\n",
    "plt.plot([0,1], [0,1], '--', color='black')\n",
    "plt.legend()\n",
    "plt.grid()"
   ]
  },
  {
   "cell_type": "markdown",
   "metadata": {
    "id": "Olu9UFhYKuxr"
   },
   "source": [
    "### Задание\n",
    "Создайте датасет `scoring_data_for_forest` и предскажите на нем целевую переменную."
   ]
  },
  {
   "cell_type": "code",
   "execution_count": 26,
   "metadata": {
    "id": "CoP8jwU6Kuxr"
   },
   "outputs": [],
   "source": [
    "# Создание датасета scoring_data_for_forest\n",
    "scoring_data_for_forest = pd.concat([scoring_real_data, scoring_one_hot_data], axis='columns')\n",
    "\n",
    "# Предсказание целевой переменной на scoring_data_for_forest\n",
    "scoring_y_pred_forest = model.predict_proba(scoring_data_for_forest)[:, 1]\n"
   ]
  },
  {
   "cell_type": "markdown",
   "metadata": {
    "id": "r5XSMDTifr7T"
   },
   "source": [
    "Сохраним scoring_y_pred_forest. Отправьте их на Stepik, полностью скопировав содержимое файла и вставив их вместо \"<ВАШ КОД. Вставьте сюда list вероятностей, предсказанных случайным лесом на data_scoring.csv>\" так, чтобы переменная answer содержала список вероятностей в нужном порядке."
   ]
  },
  {
   "cell_type": "code",
   "execution_count": 27,
   "metadata": {
    "id": "h8mqhKf7dVyN"
   },
   "outputs": [],
   "source": [
    "with open('scoring_y_pred_forest.txt', \"w\") as f:\n",
    "    f.write(', '.join([str(item) for item in scoring_y_pred_forest]))"
   ]
  },
  {
   "cell_type": "markdown",
   "metadata": {
    "id": "-8dD_JxQfXM5"
   },
   "source": [
    "Для посылки на kaggle обычно используют функцию `.to_csv`, как ниже, но нам этот код не понадобится:"
   ]
  },
  {
   "cell_type": "code",
   "execution_count": 28,
   "metadata": {
    "id": "5P7OGdIEfr7Z"
   },
   "outputs": [],
   "source": [
    "pd.Series(scoring_y_pred_forest).to_csv('scoring_y_pred_forest.csv', header=None, index=None)"
   ]
  },
  {
   "cell_type": "markdown",
   "metadata": {
    "id": "_RqoeqkJuR2g"
   },
   "source": [
    "## Часть 3. Обучение градиентного бустинга\n",
    "Мы будем использовать библиотеку Catboost. Catboost --- это библиотека для градиентного бустинга от компании Яндекс. Она, как следует из названия, отличается удобной работой с данными вообще и категориальными признаками с частности. Про Catboost можно прочитать в [официальной документации](https://catboost.ai/en/docs/concepts/python-usages-examples) и в статье на [Хабре](https://habr.com/ru/post/599827/).\n",
    "\n",
    "<img src=\"https://avatars.mds.yandex.net/i?id=53d991f7cac35c76bf747793019c39fb-3751806-images-thumbs&n=13&exp=1\" style=\"height:400px; width:800px\">\n",
    "\n",
    "Обратите внимание на следующие моменты:\n",
    "* В Catboost можно сразу передавать категориальные признаки без предварительного кодирования. \n",
    "* В Catboost для категориальных признаков необходимо заполнять пропущенные значения. Мы будем заполнять их значениями `'unknown'`.\n",
    "* Для работы с данными в Catboost [есть специальный класс](https://catboost.ai/en/docs/concepts/python-reference_pool), который называется `Pool`. Прочитать о нем можно также в [примерах использования](https://catboost.ai/en/docs/concepts/python-usages-examples).\n",
    "* Для кросс-валидации в Catboost [есть специальный класс](https://catboost.ai/en/docs/concepts/python-reference_cv) `cv`. Об использовании можно прочитать в статье на [Хабре](https://habr.com/ru/post/599827/).\n",
    "* Собственно, основная модель для классификации в Catboost --- это `CatBoostClassifier`. \n",
    "\n",
    "Для установки `catboost` вы можете выполнить следующую команду. "
   ]
  },
  {
   "cell_type": "code",
   "execution_count": 29,
   "metadata": {
    "id": "qs35kLJPKuxs"
   },
   "outputs": [
    {
     "name": "stdout",
     "output_type": "stream",
     "text": [
      "Defaulting to user installation because normal site-packages is not writeable\n",
      "Requirement already satisfied: catboost in c:\\users\\itzno\\appdata\\roaming\\python\\python311\\site-packages (1.2.3)\n",
      "Requirement already satisfied: graphviz in c:\\users\\itzno\\appdata\\roaming\\python\\python311\\site-packages (from catboost) (0.20.1)\n",
      "Requirement already satisfied: matplotlib in c:\\programdata\\anaconda3\\lib\\site-packages (from catboost) (3.7.2)\n",
      "Requirement already satisfied: numpy>=1.16.0 in c:\\programdata\\anaconda3\\lib\\site-packages (from catboost) (1.24.3)\n",
      "Requirement already satisfied: pandas>=0.24 in c:\\programdata\\anaconda3\\lib\\site-packages (from catboost) (2.0.3)\n",
      "Requirement already satisfied: scipy in c:\\programdata\\anaconda3\\lib\\site-packages (from catboost) (1.11.1)\n",
      "Requirement already satisfied: plotly in c:\\programdata\\anaconda3\\lib\\site-packages (from catboost) (5.9.0)\n",
      "Requirement already satisfied: six in c:\\programdata\\anaconda3\\lib\\site-packages (from catboost) (1.16.0)\n",
      "Requirement already satisfied: python-dateutil>=2.8.2 in c:\\programdata\\anaconda3\\lib\\site-packages (from pandas>=0.24->catboost) (2.8.2)\n",
      "Requirement already satisfied: pytz>=2020.1 in c:\\programdata\\anaconda3\\lib\\site-packages (from pandas>=0.24->catboost) (2023.3.post1)\n",
      "Requirement already satisfied: tzdata>=2022.1 in c:\\programdata\\anaconda3\\lib\\site-packages (from pandas>=0.24->catboost) (2023.3)\n",
      "Requirement already satisfied: contourpy>=1.0.1 in c:\\programdata\\anaconda3\\lib\\site-packages (from matplotlib->catboost) (1.0.5)\n",
      "Requirement already satisfied: cycler>=0.10 in c:\\programdata\\anaconda3\\lib\\site-packages (from matplotlib->catboost) (0.11.0)\n",
      "Requirement already satisfied: fonttools>=4.22.0 in c:\\programdata\\anaconda3\\lib\\site-packages (from matplotlib->catboost) (4.25.0)\n",
      "Requirement already satisfied: kiwisolver>=1.0.1 in c:\\programdata\\anaconda3\\lib\\site-packages (from matplotlib->catboost) (1.4.4)\n",
      "Requirement already satisfied: packaging>=20.0 in c:\\programdata\\anaconda3\\lib\\site-packages (from matplotlib->catboost) (23.1)\n",
      "Requirement already satisfied: pillow>=6.2.0 in c:\\programdata\\anaconda3\\lib\\site-packages (from matplotlib->catboost) (10.0.1)\n",
      "Requirement already satisfied: pyparsing<3.1,>=2.3.1 in c:\\programdata\\anaconda3\\lib\\site-packages (from matplotlib->catboost) (3.0.9)\n",
      "Requirement already satisfied: tenacity>=6.2.0 in c:\\programdata\\anaconda3\\lib\\site-packages (from plotly->catboost) (8.2.2)\n"
     ]
    }
   ],
   "source": [
    "!pip install catboost"
   ]
  },
  {
   "cell_type": "markdown",
   "metadata": {
    "id": "zqEuErm7Kuxs"
   },
   "source": [
    "Импортируем все необходимые классы."
   ]
  },
  {
   "cell_type": "code",
   "execution_count": 30,
   "metadata": {
    "id": "BrYDQ_tNuWmg"
   },
   "outputs": [],
   "source": [
    "from catboost import CatBoostClassifier, Pool, cv"
   ]
  },
  {
   "cell_type": "markdown",
   "metadata": {
    "id": "dPOVS9IuKuxs"
   },
   "source": [
    "### Задание\n",
    "Заполните пропуски в данных `train_cat_data` и `test_cat_data` значением `'unknown'`. Используйте метод `fillna`."
   ]
  },
  {
   "cell_type": "code",
   "execution_count": 31,
   "metadata": {
    "id": "CfdxlQxDKuxt"
   },
   "outputs": [],
   "source": [
    "# Заполнение пропусков в train_cat_data и test_cat_data значением 'unknown'\n",
    "train_cat_data = train_cat_data.fillna('unknown')\n",
    "test_cat_data = test_cat_data.fillna('unknown')"
   ]
  },
  {
   "cell_type": "markdown",
   "metadata": {
    "id": "9oWzO7hfKuxt"
   },
   "source": [
    "### Задание \n",
    "Создайте новые наборы данных для train и test, состоящие из `[train/test]_real_data` и `[train/test]_cat_data`. Используйте `pd.concat`. Затем создайте обучающий и тестовый `Pool` (за вас мы выделили номера категориальных признаков). "
   ]
  },
  {
   "cell_type": "code",
   "execution_count": 32,
   "metadata": {
    "id": "nVnooXSBvET_"
   },
   "outputs": [],
   "source": [
    "# Создание новых наборов данных с использованием pd.concat\n",
    "train_data_for_boosting = pd.concat([train_real_data, train_cat_data], axis=1)\n",
    "test_data_for_boosting = pd.concat([test_real_data, test_cat_data], axis=1)\n",
    "\n",
    "# Создание обучающего и тестового Pool\n",
    "cat_features = np.arange(train_cat_data.shape[1]) + train_real_data.shape[1]\n",
    "\n",
    "train_dataset = Pool(data=train_data_for_boosting, \n",
    "                     label=y_train, \n",
    "                     cat_features=cat_features)\n",
    "\n",
    "test_dataset = Pool(data=test_data_for_boosting, \n",
    "                    label=y_test, \n",
    "                    cat_features=cat_features)"
   ]
  },
  {
   "cell_type": "markdown",
   "metadata": {
    "id": "RnFK5vH-Kuxt"
   },
   "source": [
    "Для каждого значения depth от 3 до 16 включительно используйте функцию `cv` для подсчета результатов кросс-валидации. Затем посчитайте среднее по фолдам значение метрики ROC-AUC с последней итерации и запишите получившиеся данные в массив `boosting_metrics`. \n",
    "\n",
    "Обратите внимание, что функция `cv` должна принимать следующие параметры:\n",
    "* `pool` (используйте `train_dataset`)\n",
    "* `params` (используйте параметры, указанные в коде)\n",
    "* `fold_count` (положите равным 5).\n",
    "\n",
    "Функция cv возвращает pd.DataFrame с метриками обучения. Вам понадобится колонка `'test-AUC-mean'` и последняя строчка. Обратите внимание, что обучение занимает значительное время! Сначала можете попробовать выполнить этот код для небольшого массива `depths`, чтобы было легче дебагать."
   ]
  },
  {
   "cell_type": "code",
   "execution_count": 33,
   "metadata": {
    "id": "MwGJepyuxOmc",
    "scrolled": true
   },
   "outputs": [
    {
     "name": "stdout",
     "output_type": "stream",
     "text": [
      "Training on fold [0/5]\n",
      "\n",
      "bestTest = 0.3840580656\n",
      "bestIteration = 99\n",
      "\n",
      "Training on fold [1/5]\n",
      "\n",
      "bestTest = 0.3846262202\n",
      "bestIteration = 99\n",
      "\n",
      "Training on fold [2/5]\n",
      "\n",
      "bestTest = 0.3805591008\n",
      "bestIteration = 99\n",
      "\n",
      "Training on fold [3/5]\n",
      "\n",
      "bestTest = 0.3840698274\n",
      "bestIteration = 99\n",
      "\n",
      "Training on fold [4/5]\n",
      "\n",
      "bestTest = 0.3864208688\n",
      "bestIteration = 99\n",
      "\n",
      "Training on fold [0/5]\n",
      "\n",
      "bestTest = 0.3827664129\n",
      "bestIteration = 99\n",
      "\n",
      "Training on fold [1/5]\n",
      "\n",
      "bestTest = 0.3813479205\n",
      "bestIteration = 99\n",
      "\n",
      "Training on fold [2/5]\n",
      "\n",
      "bestTest = 0.3772205647\n",
      "bestIteration = 99\n",
      "\n",
      "Training on fold [3/5]\n",
      "\n",
      "bestTest = 0.3821562116\n",
      "bestIteration = 99\n",
      "\n",
      "Training on fold [4/5]\n",
      "\n",
      "bestTest = 0.3847346253\n",
      "bestIteration = 99\n",
      "\n",
      "Training on fold [0/5]\n",
      "\n",
      "bestTest = 0.3811518624\n",
      "bestIteration = 99\n",
      "\n",
      "Training on fold [1/5]\n",
      "\n",
      "bestTest = 0.3800212131\n",
      "bestIteration = 99\n",
      "\n",
      "Training on fold [2/5]\n",
      "\n",
      "bestTest = 0.3747124969\n",
      "bestIteration = 99\n",
      "\n",
      "Training on fold [3/5]\n",
      "\n",
      "bestTest = 0.3798165757\n",
      "bestIteration = 99\n",
      "\n",
      "Training on fold [4/5]\n",
      "\n",
      "bestTest = 0.3827192049\n",
      "bestIteration = 99\n",
      "\n",
      "Training on fold [0/5]\n",
      "\n",
      "bestTest = 0.3804177945\n",
      "bestIteration = 99\n",
      "\n",
      "Training on fold [1/5]\n",
      "\n",
      "bestTest = 0.3779599378\n",
      "bestIteration = 99\n",
      "\n",
      "Training on fold [2/5]\n",
      "\n",
      "bestTest = 0.3742438055\n",
      "bestIteration = 99\n",
      "\n",
      "Training on fold [3/5]\n",
      "\n",
      "bestTest = 0.3787011546\n",
      "bestIteration = 99\n",
      "\n",
      "Training on fold [4/5]\n",
      "\n",
      "bestTest = 0.3819971074\n",
      "bestIteration = 99\n",
      "\n",
      "Training on fold [0/5]\n",
      "\n",
      "bestTest = 0.3795623253\n",
      "bestIteration = 99\n",
      "\n",
      "Training on fold [1/5]\n",
      "\n",
      "bestTest = 0.37721451\n",
      "bestIteration = 99\n",
      "\n",
      "Training on fold [2/5]\n",
      "\n",
      "bestTest = 0.3730520125\n",
      "bestIteration = 99\n",
      "\n",
      "Training on fold [3/5]\n",
      "\n",
      "bestTest = 0.3785819754\n",
      "bestIteration = 99\n",
      "\n",
      "Training on fold [4/5]\n",
      "\n",
      "bestTest = 0.3810157342\n",
      "bestIteration = 99\n",
      "\n",
      "Training on fold [0/5]\n",
      "\n",
      "bestTest = 0.3806449783\n",
      "bestIteration = 99\n",
      "\n",
      "Training on fold [1/5]\n",
      "\n",
      "bestTest = 0.3766797015\n",
      "bestIteration = 99\n",
      "\n",
      "Training on fold [2/5]\n",
      "\n",
      "bestTest = 0.3722395476\n",
      "bestIteration = 99\n",
      "\n",
      "Training on fold [3/5]\n",
      "\n",
      "bestTest = 0.3776503977\n",
      "bestIteration = 99\n",
      "\n",
      "Training on fold [4/5]\n",
      "\n",
      "bestTest = 0.3816467875\n",
      "bestIteration = 99\n",
      "\n",
      "Training on fold [0/5]\n",
      "\n",
      "bestTest = 0.3801325386\n",
      "bestIteration = 99\n",
      "\n",
      "Training on fold [1/5]\n",
      "\n",
      "bestTest = 0.376331011\n",
      "bestIteration = 99\n",
      "\n",
      "Training on fold [2/5]\n",
      "\n",
      "bestTest = 0.3732234448\n",
      "bestIteration = 99\n",
      "\n",
      "Training on fold [3/5]\n",
      "\n",
      "bestTest = 0.3771779644\n",
      "bestIteration = 99\n",
      "\n",
      "Training on fold [4/5]\n",
      "\n",
      "bestTest = 0.3809753091\n",
      "bestIteration = 99\n",
      "\n",
      "Training on fold [0/5]\n",
      "\n",
      "bestTest = 0.3803708837\n",
      "bestIteration = 98\n",
      "\n",
      "Training on fold [1/5]\n",
      "\n",
      "bestTest = 0.3750589546\n",
      "bestIteration = 99\n",
      "\n",
      "Training on fold [2/5]\n",
      "\n",
      "bestTest = 0.3722339528\n",
      "bestIteration = 99\n",
      "\n",
      "Training on fold [3/5]\n",
      "\n",
      "bestTest = 0.376167535\n",
      "bestIteration = 99\n",
      "\n",
      "Training on fold [4/5]\n",
      "\n",
      "bestTest = 0.3807113216\n",
      "bestIteration = 99\n",
      "\n",
      "Training on fold [0/5]\n",
      "\n",
      "bestTest = 0.3795304118\n",
      "bestIteration = 99\n",
      "\n",
      "Training on fold [1/5]\n",
      "\n",
      "bestTest = 0.3756151197\n",
      "bestIteration = 99\n",
      "\n",
      "Training on fold [2/5]\n",
      "\n",
      "bestTest = 0.3725519731\n",
      "bestIteration = 99\n",
      "\n",
      "Training on fold [3/5]\n",
      "\n",
      "bestTest = 0.3768058318\n",
      "bestIteration = 99\n",
      "\n",
      "Training on fold [4/5]\n",
      "\n",
      "bestTest = 0.3803558779\n",
      "bestIteration = 99\n",
      "\n",
      "Training on fold [0/5]\n",
      "\n",
      "bestTest = 0.3798606877\n",
      "bestIteration = 99\n",
      "\n",
      "Training on fold [1/5]\n",
      "\n",
      "bestTest = 0.3745002306\n",
      "bestIteration = 99\n",
      "\n",
      "Training on fold [2/5]\n",
      "\n",
      "bestTest = 0.3704121991\n",
      "bestIteration = 99\n",
      "\n",
      "Training on fold [3/5]\n",
      "\n",
      "bestTest = 0.3754170941\n",
      "bestIteration = 99\n",
      "\n",
      "Training on fold [4/5]\n",
      "\n",
      "bestTest = 0.380680659\n",
      "bestIteration = 99\n",
      "\n",
      "Training on fold [0/5]\n",
      "\n",
      "bestTest = 0.3799931872\n",
      "bestIteration = 99\n",
      "\n",
      "Training on fold [1/5]\n",
      "\n",
      "bestTest = 0.3746268455\n",
      "bestIteration = 99\n",
      "\n",
      "Training on fold [2/5]\n",
      "\n",
      "bestTest = 0.372043999\n",
      "bestIteration = 99\n",
      "\n",
      "Training on fold [3/5]\n",
      "\n",
      "bestTest = 0.3747264235\n",
      "bestIteration = 99\n",
      "\n",
      "Training on fold [4/5]\n",
      "\n",
      "bestTest = 0.3807591625\n",
      "bestIteration = 99\n",
      "\n",
      "Training on fold [0/5]\n",
      "\n",
      "bestTest = 0.3811026127\n",
      "bestIteration = 99\n",
      "\n",
      "Training on fold [1/5]\n",
      "\n",
      "bestTest = 0.3748120221\n",
      "bestIteration = 99\n",
      "\n",
      "Training on fold [2/5]\n",
      "\n",
      "bestTest = 0.3721513779\n",
      "bestIteration = 99\n",
      "\n",
      "Training on fold [3/5]\n",
      "\n",
      "bestTest = 0.3741355357\n",
      "bestIteration = 99\n",
      "\n",
      "Training on fold [4/5]\n",
      "\n",
      "bestTest = 0.3795132739\n",
      "bestIteration = 99\n",
      "\n",
      "Training on fold [0/5]\n",
      "\n",
      "bestTest = 0.3817581326\n",
      "bestIteration = 97\n",
      "\n",
      "Training on fold [1/5]\n",
      "\n",
      "bestTest = 0.3762969329\n",
      "bestIteration = 99\n",
      "\n",
      "Training on fold [2/5]\n",
      "\n",
      "bestTest = 0.3724117391\n",
      "bestIteration = 99\n",
      "\n",
      "Training on fold [3/5]\n",
      "\n",
      "bestTest = 0.375605719\n",
      "bestIteration = 99\n",
      "\n",
      "Training on fold [4/5]\n",
      "\n",
      "bestTest = 0.3820992936\n",
      "bestIteration = 99\n",
      "\n",
      "Training on fold [0/5]\n",
      "\n",
      "bestTest = 0.3813011066\n",
      "bestIteration = 98\n",
      "\n",
      "Training on fold [1/5]\n",
      "\n",
      "bestTest = 0.3762337216\n",
      "bestIteration = 99\n",
      "\n",
      "Training on fold [2/5]\n",
      "\n",
      "bestTest = 0.3725928518\n",
      "bestIteration = 99\n",
      "\n",
      "Training on fold [3/5]\n",
      "\n",
      "bestTest = 0.3748678644\n",
      "bestIteration = 99\n",
      "\n",
      "Training on fold [4/5]\n",
      "\n",
      "bestTest = 0.3811590463\n",
      "bestIteration = 99\n",
      "\n"
     ]
    }
   ],
   "source": [
    "depths = np.arange(3, 17)\n",
    "boosting_metrics = []\n",
    "\n",
    "for depth in depths:\n",
    "    params = {\"iterations\": 100,\n",
    "              \"depth\": depth,\n",
    "              \"loss_function\": \"Logloss\",\n",
    "              \"custom_loss\": \"AUC\",\n",
    "              \"verbose\": False}\n",
    "\n",
    "    scores = cv(pool=train_dataset, \n",
    "                params=params,\n",
    "                fold_count=5)\n",
    "\n",
    "    boosting_metrics.append(scores['test-AUC-mean'].iloc[-1])"
   ]
  },
  {
   "cell_type": "markdown",
   "metadata": {
    "id": "-4zJBJmvKuxt"
   },
   "source": [
    "Построим график получившейся метрики в зависимости от параметра `depth`. Сравним его с тем же графиком для метрик случайного леса."
   ]
  },
  {
   "cell_type": "code",
   "execution_count": 34,
   "metadata": {
    "id": "IX1YIHmFvPH0"
   },
   "outputs": [
    {
     "data": {
      "text/plain": [
       "<matplotlib.legend.Legend at 0x1b490005650>"
      ]
     },
     "execution_count": 34,
     "metadata": {},
     "output_type": "execute_result"
    },
    {
     "data": {
      "image/png": "[encoded data removed]",
      "text/plain": [
       "<Figure size 1000x600 with 1 Axes>"
      ]
     },
     "metadata": {},
     "output_type": "display_data"
    }
   ],
   "source": [
    "plt.figure(figsize=(10,6))\n",
    "plt.plot(np.arange(3, 20), rf_metrics, label='Random Forest AUC')\n",
    "plt.plot(np.arange(3, 17), boosting_metrics, label='Catboost AUC')\n",
    "plt.xlabel('depth')\n",
    "plt.ylabel('roc-auc-score')\n",
    "plt.grid()\n",
    "plt.legend()"
   ]
  },
  {
   "cell_type": "markdown",
   "metadata": {
    "id": "bYAZAjlgKuxv"
   },
   "source": [
    "Ответье на следующие вопросы:\n",
    "* Для какой модели общие результаты получились лучше? Если лучше результаты получились у бэггинга, как вы думаете, получится ли у бустинга отыграться на полной выборке и при большем количестве деревьев?\n"
   ]
  },
  {
   "cell_type": "markdown",
   "metadata": {},
   "source": [
    "Чтобы определить, какая модель дала лучшие результаты, можно сравнить значения метрик ROC-AUC для случайного леса (rf_metrics) и метрик бустинга (boosting_metrics). Если значения ROC-AUC для бустинга выше, то бустинг дает лучшие результаты. Если после увеличения обучающей выборки или количества деревьев, бустинг может дать еще лучше результаты."
   ]
  },
  {
   "cell_type": "markdown",
   "metadata": {},
   "source": [
    "* Какова получилась оптимальная глубина для бустинга? "
   ]
  },
  {
   "cell_type": "markdown",
   "metadata": {},
   "source": [
    "Оптимальная глубина для бустинга можно определить, рассмотрев значения глубины, при которых получены наилучшие значения метрики ROC-AUC в массиве boosting_metrics. Например, можно выбрать глубину, при которой метрика достигает максимального значения. В данном случае, мы можем посмотреть значение глубины, соответствующее максимальной метрике ROC-AUC в массиве boosting_metrics."
   ]
  },
  {
   "cell_type": "markdown",
   "metadata": {},
   "source": [
    "* Как она отличается от оптимальной глубины для бэггинга? "
   ]
  },
  {
   "cell_type": "markdown",
   "metadata": {},
   "source": [
    "Оптимальная глубина для бэггинга будет разной от оптимальной глубины для бустинга. Это связано с тем, что бэггинг и бустинг - разные алгоритмы, и различные глубины могут иметь разное влияние на их производительность. Чтобы определить оптимальную глубину для бэггинга, можно выполнить аналогичную процедуру, что и для бустинга, используя значения метрик для случайного леса."
   ]
  },
  {
   "cell_type": "markdown",
   "metadata": {
    "id": "0slj4Xf-Kuxv"
   },
   "source": [
    "### Задание \n",
    "Мы нашли оптмальную глубину. Обучите для этого значения глубины один `CatBoostClassifier` со следующими параметрами:\n",
    "* `iterations=500` (именно 500, потому что качества с сотней деревьев может не хватить!)\n",
    "* `depth =` глубина, которую вы нашли\n",
    "* `loss_function='Logloss'`\n",
    "* `verbose=False` (чтобы не было лишнего вывода).\n",
    "\n",
    "Обучение производится с помощью метода `fit`, который принимает единственный аргумент --- `Pool` с данными. В данном случае используйте `train_dataset`.\n",
    "\n",
    "Предскажите значения на `train_dataset` и `test_dataset`. Это делается методом `predict_proba` (устроен так же, как и в `sklearn`)."
   ]
  },
  {
   "cell_type": "code",
   "execution_count": 35,
   "metadata": {
    "id": "-2ts0N0Pv6Qj"
   },
   "outputs": [],
   "source": [
    "best_depth = np.argmax(boosting_metrics) + 3\n",
    "\n",
    "model = CatBoostClassifier(iterations=500,\n",
    "                           depth=best_depth,\n",
    "                           loss_function='Logloss',\n",
    "                           verbose=False)\n",
    "                           \n",
    "model.fit(train_dataset)\n",
    "\n",
    "train_y_pred_boosting = model.predict_proba(train_dataset)[:, 1]\n",
    "test_y_pred_boosting = model.predict_proba(test_dataset)[:, 1]"
   ]
  },
  {
   "cell_type": "markdown",
   "metadata": {
    "id": "cJNQm4N_Kuxw"
   },
   "source": [
    "### Задание\n",
    "Вычислите ROC-AUC на обучающем и тестовом множестве."
   ]
  },
  {
   "cell_type": "code",
   "execution_count": 36,
   "metadata": {
    "id": "NwJ0z3n-Kuxw"
   },
   "outputs": [
    {
     "name": "stdout",
     "output_type": "stream",
     "text": [
      "0.870909471461852\n"
     ]
    }
   ],
   "source": [
    "train_auc = roc_auc_score(y_train, train_y_pred_boosting)\n",
    "test_auc = roc_auc_score(y_test, test_y_pred_boosting)\n",
    "print(test_auc)"
   ]
  },
  {
   "cell_type": "markdown",
   "metadata": {
    "id": "gaF0m2MdKuxw"
   },
   "source": [
    "Проверим, что мы получили достаточно хорошие значения для `test_auc`."
   ]
  },
  {
   "cell_type": "code",
   "execution_count": 37,
   "metadata": {
    "id": "Ru1G2hJOKuxw"
   },
   "outputs": [],
   "source": [
    "assert test_auc > 0.80"
   ]
  },
  {
   "cell_type": "markdown",
   "metadata": {
    "id": "51GQFZ30Kuxw"
   },
   "source": [
    "Построим ROC-кривые для получившейся модели."
   ]
  },
  {
   "cell_type": "code",
   "execution_count": 38,
   "metadata": {
    "id": "XMEBrLhzwyaA"
   },
   "outputs": [
    {
     "data": {
      "image/png": "[encoded data removed]",
      "text/plain": [
       "<Figure size 1000x600 with 1 Axes>"
      ]
     },
     "metadata": {},
     "output_type": "display_data"
    }
   ],
   "source": [
    "plt.figure(figsize=(10,6))\n",
    "plt.plot(*roc_curve(y_train, train_y_pred_boosting)[:2], \n",
    "         label=f'train auc={train_auc}')\n",
    "plt.plot(*roc_curve(y_test, test_y_pred_boosting)[:2], \n",
    "         label=f'test auc={test_auc}')\n",
    "\n",
    "plt.plot([0,1], [0,1], '--', color='black')\n",
    "\n",
    "plt.legend()\n",
    "plt.grid()"
   ]
  },
  {
   "cell_type": "markdown",
   "metadata": {
    "id": "QGsllxMCKuxw"
   },
   "source": [
    "### Задание\n",
    "Примените построенную модель к данным `scoring_data`. Для этого повторите все шаги, которые вы делали с тестовыми данными:\n",
    "* Заполнение пропущенных значений\n",
    "* Конкатенация числовых и категориальных данных\n",
    "* Создание `scoring_dataset` (здесь не нужно передавать аргумент `label`, так как мы их не знаем)\n",
    "* Предсказание вероятностей 1 класса"
   ]
  },
  {
   "cell_type": "code",
   "execution_count": 39,
   "metadata": {
    "id": "cyTsaF1EKuxx"
   },
   "outputs": [],
   "source": [
    "# Заполнение пропущенных значений в scoring_data\n",
    "scoring_data = scoring_data.fillna('unknown')\n",
    "\n",
    "# Преобразование NaN значений в категориальных данных в строковый формат\n",
    "scoring_cat_data = scoring_cat_data.astype(str)\n",
    "\n",
    "# Создание данных для scoring модели\n",
    "scoring_data_for_boosting = pd.concat([scoring_real_data, scoring_cat_data], axis=1)\n",
    "scoring_dataset = Pool(data=scoring_data_for_boosting, cat_features=cat_features)\n",
    "\n",
    "# Предсказание вероятностей 1 класса\n",
    "scoring_y_pred_boosting = model.predict_proba(scoring_dataset)[:, 1]"
   ]
  },
  {
   "cell_type": "markdown",
   "metadata": {
    "id": "E4JwH8r7Kuxx"
   },
   "source": [
    "Сохраним предсказанные значения. Отправьте их на Stepik."
   ]
  },
  {
   "cell_type": "code",
   "execution_count": 40,
   "metadata": {
    "id": "lfW8H_CsKuxx",
    "tags": []
   },
   "outputs": [],
   "source": [
    "with open('scoring_y_pred_boosting.txt', \"w\") as f:\n",
    "    f.write(', '.join([str(item) for item in scoring_y_pred_boosting]))"
   ]
  }
 ],
 "metadata": {
  "colab": {
   "authorship_tag": "ABX9TyMzUIkmFq1pRB8dSjmIRH6r",
   "provenance": []
  },
  "kernelspec": {
   "display_name": "Python 3 (ipykernel)",
   "language": "python",
   "name": "python3"
  },
  "language_info": {
   "codemirror_mode": {
    "name": "ipython",
    "version": 3
   },
   "file_extension": ".py",
   "mimetype": "text/x-python",
   "name": "python",
   "nbconvert_exporter": "python",
   "pygments_lexer": "ipython3",
   "version": "3.11.5"
  }
 },
 "nbformat": 4,
 "nbformat_minor": 4
}
